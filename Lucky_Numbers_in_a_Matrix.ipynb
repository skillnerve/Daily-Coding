{
  "nbformat": 4,
  "nbformat_minor": 0,
  "metadata": {
    "colab": {
      "name": "Lucky Numbers in a Matrix.ipynb",
      "provenance": [],
      "authorship_tag": "ABX9TyOBfsZdPPv7BacIgMYltBKW",
      "include_colab_link": true
    },
    "kernelspec": {
      "name": "python3",
      "display_name": "Python 3"
    },
    "language_info": {
      "name": "python"
    }
  },
  "cells": [
    {
      "cell_type": "markdown",
      "metadata": {
        "id": "view-in-github",
        "colab_type": "text"
      },
      "source": [
        "<a href=\"https://colab.research.google.com/github/skillnerve/Daily-coding/blob/main/Lucky_Numbers_in_a_Matrix.ipynb\" target=\"_parent\"><img src=\"https://colab.research.google.com/assets/colab-badge.svg\" alt=\"Open In Colab\"/></a>"
      ]
    },
    {
      "cell_type": "code",
      "metadata": {
        "id": "1o285mWMoz3R"
      },
      "source": [
        "class Solution:\n",
        "    def luckyNumbers (self, matrix: List[List[int]]) -> List[int]:\n",
        "        answer=[]\n",
        "        for i in matrix:\n",
        "            ans=min(i)-1\n",
        "            j=0\n",
        "            while j<len(matrix):\n",
        "                if ans<matrix[j][i.index(min(i))]:\n",
        "                    ans=matrix[j][i.index(min(i))]\n",
        "                j+=1\n",
        "            if ans==min(i):\n",
        "                answer.append(ans)\n",
        "        return(answer)"
      ],
      "execution_count": null,
      "outputs": []
    }
  ]
}