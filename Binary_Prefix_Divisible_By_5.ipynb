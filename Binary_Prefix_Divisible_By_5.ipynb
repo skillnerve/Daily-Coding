{
  "nbformat": 4,
  "nbformat_minor": 0,
  "metadata": {
    "colab": {
      "name": "Binary Prefix Divisible By 5.ipynb",
      "provenance": [],
      "collapsed_sections": [],
      "authorship_tag": "ABX9TyM+uYSIFl6+7z6C17dXxhxp",
      "include_colab_link": true
    },
    "kernelspec": {
      "name": "python3",
      "display_name": "Python 3"
    },
    "language_info": {
      "name": "python"
    }
  },
  "cells": [
    {
      "cell_type": "markdown",
      "metadata": {
        "id": "view-in-github",
        "colab_type": "text"
      },
      "source": [
        "<a href=\"https://colab.research.google.com/github/skillnerve/Daily-coding/blob/main/Binary_Prefix_Divisible_By_5.ipynb\" target=\"_parent\"><img src=\"https://colab.research.google.com/assets/colab-badge.svg\" alt=\"Open In Colab\"/></a>"
      ]
    },
    {
      "cell_type": "code",
      "metadata": {
        "id": "pU5ZPrn-LiER"
      },
      "source": [
        "class Solution:\n",
        "    def prefixesDivBy5(self, nums: List[int]) -> List[bool]:\n",
        "        answer=[]\n",
        "        ans=0\n",
        "        for i in nums:\n",
        "            ans=ans*2+i\n",
        "            answer.append(ans%5==0)\n",
        "        return(answer)"
      ],
      "execution_count": null,
      "outputs": []
    }
  ]
}