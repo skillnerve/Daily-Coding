{
  "nbformat": 4,
  "nbformat_minor": 0,
  "metadata": {
    "colab": {
      "name": "Find Pivot Index.ipynb",
      "provenance": [],
      "collapsed_sections": [],
      "authorship_tag": "ABX9TyM+rLZpT37Fm2udXygFkSzA",
      "include_colab_link": true
    },
    "kernelspec": {
      "name": "python3",
      "display_name": "Python 3"
    },
    "language_info": {
      "name": "python"
    }
  },
  "cells": [
    {
      "cell_type": "markdown",
      "metadata": {
        "id": "view-in-github",
        "colab_type": "text"
      },
      "source": [
        "<a href=\"https://colab.research.google.com/github/skillnerve/Daily-coding/blob/main/Find_Pivot_Index.ipynb\" target=\"_parent\"><img src=\"https://colab.research.google.com/assets/colab-badge.svg\" alt=\"Open In Colab\"/></a>"
      ]
    },
    {
      "cell_type": "code",
      "metadata": {
        "id": "pU5ZPrn-LiER"
      },
      "source": [
        "class Solution:\n",
        "    def pivotIndex(self, nums: List[int]) -> int:\n",
        "        sums=0\n",
        "        ans=[]\n",
        "        for i in nums:\n",
        "            sums+=i\n",
        "            ans.append(sums)\n",
        "        if ans[0]==ans[-1]:\n",
        "            return(0)\n",
        "        for i in range(1,len(ans)):\n",
        "            if ans[i-1]==ans[-1]-ans[i]:\n",
        "                return(i)\n",
        "        return(-1)"
      ],
      "execution_count": null,
      "outputs": []
    }
  ]
}