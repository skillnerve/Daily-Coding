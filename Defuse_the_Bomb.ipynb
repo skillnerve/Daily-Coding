{
  "nbformat": 4,
  "nbformat_minor": 0,
  "metadata": {
    "colab": {
      "name": "Defuse the Bomb.ipynb",
      "provenance": [],
      "authorship_tag": "ABX9TyOYlvo4Q4JfBgdPfNa8LNbj",
      "include_colab_link": true
    },
    "kernelspec": {
      "name": "python3",
      "display_name": "Python 3"
    },
    "language_info": {
      "name": "python"
    }
  },
  "cells": [
    {
      "cell_type": "markdown",
      "metadata": {
        "id": "view-in-github",
        "colab_type": "text"
      },
      "source": [
        "<a href=\"https://colab.research.google.com/github/skillnerve/Daily-coding/blob/main/Defuse_the_Bomb.ipynb\" target=\"_parent\"><img src=\"https://colab.research.google.com/assets/colab-badge.svg\" alt=\"Open In Colab\"/></a>"
      ]
    },
    {
      "cell_type": "code",
      "metadata": {
        "id": "IFZOGG0aKsO-"
      },
      "source": [
        "class Solution:\n",
        "    def decrypt(self, code: List[int], k: int) -> List[int]:\n",
        "        arr=[]\n",
        "        if k>0:\n",
        "            for i in range(len(code)):\n",
        "                l=k\n",
        "                r=0\n",
        "                while l>0:\n",
        "                    r+=code[(l+i)%len(code)]\n",
        "                    l-=1\n",
        "                arr.append(r)\n",
        "            return(arr)\n",
        "        if k==0:\n",
        "            for i in code:\n",
        "                arr.append(0)\n",
        "            return(arr)\n",
        "        if k<0:\n",
        "            for i in range(len(code)):\n",
        "                l=k\n",
        "                r=0\n",
        "                while l<0:\n",
        "                    r+=code[(i+l)%len(code)]\n",
        "                    l+=1\n",
        "                arr.append(r)\n",
        "            return(arr)"
      ],
      "execution_count": null,
      "outputs": []
    }
  ]
}