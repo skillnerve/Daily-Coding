{
  "nbformat": 4,
  "nbformat_minor": 0,
  "metadata": {
    "colab": {
      "name": "Best Time to Buy and Sell Stock.ipynb",
      "provenance": [],
      "authorship_tag": "ABX9TyNma0K+FQCj35/wj8TX8sZA",
      "include_colab_link": true
    },
    "kernelspec": {
      "name": "python3",
      "display_name": "Python 3"
    },
    "language_info": {
      "name": "python"
    }
  },
  "cells": [
    {
      "cell_type": "markdown",
      "metadata": {
        "id": "view-in-github",
        "colab_type": "text"
      },
      "source": [
        "<a href=\"https://colab.research.google.com/github/skillnerve/Daily-coding/blob/main/Best_Time_to_Buy_and_Sell_Stock.ipynb\" target=\"_parent\"><img src=\"https://colab.research.google.com/assets/colab-badge.svg\" alt=\"Open In Colab\"/></a>"
      ]
    },
    {
      "cell_type": "code",
      "metadata": {
        "id": "Pj2w4YLPUOyO"
      },
      "source": [
        "class Solution:\n",
        "    def maxProfit(self, prices: List[int]) -> int:\n",
        "        profit=0\n",
        "        for i in range(len(prices)):\n",
        "            if i==0:\n",
        "                minimum=prices[0]\n",
        "            else:\n",
        "                if prices[i]<minimum:\n",
        "                    minimum=prices[i]\n",
        "                else:\n",
        "                    p=prices[i]-minimum\n",
        "                    if p>profit:\n",
        "                        profit=p\n",
        "        return(profit)"
      ],
      "execution_count": 6,
      "outputs": []
    }
  ]
}