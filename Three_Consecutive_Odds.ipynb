{
  "nbformat": 4,
  "nbformat_minor": 0,
  "metadata": {
    "colab": {
      "name": "Three Consecutive Odds.ipynb",
      "provenance": [],
      "authorship_tag": "ABX9TyMKokv9xwO+zVzKCs0KWjme",
      "include_colab_link": true
    },
    "kernelspec": {
      "name": "python3",
      "display_name": "Python 3"
    },
    "language_info": {
      "name": "python"
    }
  },
  "cells": [
    {
      "cell_type": "markdown",
      "metadata": {
        "id": "view-in-github",
        "colab_type": "text"
      },
      "source": [
        "<a href=\"https://colab.research.google.com/github/skillnerve/Daily-coding/blob/main/Three_Consecutive_Odds.ipynb\" target=\"_parent\"><img src=\"https://colab.research.google.com/assets/colab-badge.svg\" alt=\"Open In Colab\"/></a>"
      ]
    },
    {
      "cell_type": "code",
      "metadata": {
        "id": "8UtlUHl0Ep9T"
      },
      "source": [
        "class Solution:\n",
        "    def threeConsecutiveOdds(self, arr: List[int]) -> bool:\n",
        "        for i in range(len(arr)-2):\n",
        "            if arr[i]%2!=0 and arr[i+1]%2!=0 and arr[i+2]%2!=0 :\n",
        "                return(True)\n",
        "        return(False)"
      ],
      "execution_count": null,
      "outputs": []
    }
  ]
}