{
  "nbformat": 4,
  "nbformat_minor": 0,
  "metadata": {
    "colab": {
      "name": "Convert Binary Number in a Linked List to Integer.ipynb",
      "provenance": [],
      "authorship_tag": "ABX9TyOrE5kixcOaGaWAWYl7jx12",
      "include_colab_link": true
    },
    "kernelspec": {
      "name": "python3",
      "display_name": "Python 3"
    },
    "language_info": {
      "name": "python"
    }
  },
  "cells": [
    {
      "cell_type": "markdown",
      "metadata": {
        "id": "view-in-github",
        "colab_type": "text"
      },
      "source": [
        "<a href=\"https://colab.research.google.com/github/skillnerve/Daily-coding/blob/main/Convert_Binary_Number_in_a_Linked_List_to_Integer.ipynb\" target=\"_parent\"><img src=\"https://colab.research.google.com/assets/colab-badge.svg\" alt=\"Open In Colab\"/></a>"
      ]
    },
    {
      "cell_type": "code",
      "metadata": {
        "id": "A3_6Kt6z3TnZ"
      },
      "source": [
        "# Definition for singly-linked list.\n",
        "# class ListNode:\n",
        "#     def __init__(self, val=0, next=None):\n",
        "#         self.val = val\n",
        "#         self.next = next\n",
        "class Solution:\n",
        "    def getDecimalValue(self, head: ListNode) -> int:\n",
        "        ans=0\n",
        "        while head.next!=None:\n",
        "            ans=(ans+head.val)*2\n",
        "            head=head.next\n",
        "        return((ans+head.val))"
      ],
      "execution_count": null,
      "outputs": []
    }
  ]
}