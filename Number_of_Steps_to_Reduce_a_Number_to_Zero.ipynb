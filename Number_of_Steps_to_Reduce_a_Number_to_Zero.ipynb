{
  "nbformat": 4,
  "nbformat_minor": 0,
  "metadata": {
    "colab": {
      "name": "Number of Steps to Reduce a Number to Zero.ipynb",
      "provenance": [],
      "authorship_tag": "ABX9TyNS647N7aAmqSFJvkjGJqYE",
      "include_colab_link": true
    },
    "kernelspec": {
      "name": "python3",
      "display_name": "Python 3"
    },
    "language_info": {
      "name": "python"
    }
  },
  "cells": [
    {
      "cell_type": "markdown",
      "metadata": {
        "id": "view-in-github",
        "colab_type": "text"
      },
      "source": [
        "<a href=\"https://colab.research.google.com/github/skillnerve/Daily-coding/blob/main/Number_of_Steps_to_Reduce_a_Number_to_Zero.ipynb\" target=\"_parent\"><img src=\"https://colab.research.google.com/assets/colab-badge.svg\" alt=\"Open In Colab\"/></a>"
      ]
    },
    {
      "cell_type": "code",
      "metadata": {
        "id": "2qogGh4y42Nq"
      },
      "source": [
        "class Solution:\n",
        "    def numberOfSteps(self, num: int) -> int:\n",
        "        t=0\n",
        "        if num==0:\n",
        "            return(0)\n",
        "        while num!=0:\n",
        "            if num%2!=0:\n",
        "                t+=1\n",
        "            num=num>>1\n",
        "            t+=1\n",
        "        return(t-1)"
      ],
      "execution_count": null,
      "outputs": []
    }
  ]
}