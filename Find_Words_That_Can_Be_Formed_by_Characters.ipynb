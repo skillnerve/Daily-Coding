{
  "nbformat": 4,
  "nbformat_minor": 0,
  "metadata": {
    "colab": {
      "name": "Find Words That Can Be Formed by Characters.ipynb",
      "provenance": [],
      "authorship_tag": "ABX9TyOzs9pmRYqSIJYQA7wbqfTx",
      "include_colab_link": true
    },
    "kernelspec": {
      "name": "python3",
      "display_name": "Python 3"
    },
    "language_info": {
      "name": "python"
    }
  },
  "cells": [
    {
      "cell_type": "markdown",
      "metadata": {
        "id": "view-in-github",
        "colab_type": "text"
      },
      "source": [
        "<a href=\"https://colab.research.google.com/github/skillnerve/Daily-coding/blob/main/Find_Words_That_Can_Be_Formed_by_Characters.ipynb\" target=\"_parent\"><img src=\"https://colab.research.google.com/assets/colab-badge.svg\" alt=\"Open In Colab\"/></a>"
      ]
    },
    {
      "cell_type": "code",
      "metadata": {
        "id": "1o285mWMoz3R"
      },
      "source": [
        "class Solution:\n",
        "    def countCharacters(self, words: List[str], chars: str) -> int:\n",
        "        m=0\n",
        "        for i in words:\n",
        "            ch=chars\n",
        "            n=m\n",
        "            for j in i:\n",
        "                if j in ch:\n",
        "                    ch=ch.replace(j,'',1)\n",
        "                    m+=1\n",
        "                else:\n",
        "                    m=n\n",
        "                    break\n",
        "        return(m)"
      ],
      "execution_count": null,
      "outputs": []
    }
  ]
}