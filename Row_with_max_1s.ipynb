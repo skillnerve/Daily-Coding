{
  "nbformat": 4,
  "nbformat_minor": 0,
  "metadata": {
    "colab": {
      "name": "Row with max 1s.ipynb",
      "provenance": [],
      "authorship_tag": "ABX9TyMLfCixHM8RsowVGd0K7oqV",
      "include_colab_link": true
    },
    "kernelspec": {
      "name": "python3",
      "display_name": "Python 3"
    },
    "language_info": {
      "name": "python"
    }
  },
  "cells": [
    {
      "cell_type": "markdown",
      "metadata": {
        "id": "view-in-github",
        "colab_type": "text"
      },
      "source": [
        "<a href=\"https://colab.research.google.com/github/skillnerve/Daily-coding/blob/main/Row_with_max_1s.ipynb\" target=\"_parent\"><img src=\"https://colab.research.google.com/assets/colab-badge.svg\" alt=\"Open In Colab\"/></a>"
      ]
    },
    {
      "cell_type": "code",
      "metadata": {
        "id": "3NOzDYbsDny9"
      },
      "source": [
        "class Solution:\n",
        "\n",
        "\tdef rowWithMax1s(self,arr, n, m):\n",
        "\t    k=0\n",
        "\t    ans=0\n",
        "\t    for i in range(len(arr)):\n",
        "\t        t=sum(arr[i])\n",
        "\t        if k<t:\n",
        "\t            k=t\n",
        "\t            ans=i\n",
        "\t    if k==0:\n",
        "\t        return(-1)\n",
        "\t    return(ans)"
      ],
      "execution_count": null,
      "outputs": []
    }
  ]
}