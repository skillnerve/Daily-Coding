{
  "nbformat": 4,
  "nbformat_minor": 0,
  "metadata": {
    "colab": {
      "name": "Final Value of Variable After Performing Operations",
      "provenance": [],
      "authorship_tag": "ABX9TyOoNT4BZCR6fAbo7jZt3ERt",
      "include_colab_link": true
    },
    "kernelspec": {
      "name": "python3",
      "display_name": "Python 3"
    },
    "language_info": {
      "name": "python"
    }
  },
  "cells": [
    {
      "cell_type": "markdown",
      "metadata": {
        "id": "view-in-github",
        "colab_type": "text"
      },
      "source": [
        "<a href=\"https://colab.research.google.com/github/skillnerve/Daily-coding/blob/main/Final_Value_of_Variable_After_Performing_Operations.ipynb\" target=\"_parent\"><img src=\"https://colab.research.google.com/assets/colab-badge.svg\" alt=\"Open In Colab\"/></a>"
      ]
    },
    {
      "cell_type": "code",
      "metadata": {
        "id": "lHz1DemUN1bR"
      },
      "source": [
        "class Solution:\n",
        "    def finalValueAfterOperations(self, operations: List[str]) -> int:\n",
        "        t=0\n",
        "        for i in operations:\n",
        "            if str(i) == str('--X') or i == str('X--'):\n",
        "                t-=1\n",
        "            if str(i) == str('++X') or i == str('X++'):\n",
        "                t+=1\n",
        "        return(t)"
      ],
      "execution_count": null,
      "outputs": []
    }
  ]
}