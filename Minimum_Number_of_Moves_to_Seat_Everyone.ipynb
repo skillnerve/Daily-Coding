{
  "nbformat": 4,
  "nbformat_minor": 0,
  "metadata": {
    "colab": {
      "name": " Minimum Number of Moves to Seat Everyone.ipynb",
      "provenance": [],
      "authorship_tag": "ABX9TyOKGo1R8mbR02yODX+jgTYE",
      "include_colab_link": true
    },
    "kernelspec": {
      "name": "python3",
      "display_name": "Python 3"
    },
    "language_info": {
      "name": "python"
    }
  },
  "cells": [
    {
      "cell_type": "markdown",
      "metadata": {
        "id": "view-in-github",
        "colab_type": "text"
      },
      "source": [
        "<a href=\"https://colab.research.google.com/github/skillnerve/Daily-coding/blob/main/Minimum_Number_of_Moves_to_Seat_Everyone.ipynb\" target=\"_parent\"><img src=\"https://colab.research.google.com/assets/colab-badge.svg\" alt=\"Open In Colab\"/></a>"
      ]
    },
    {
      "cell_type": "code",
      "metadata": {
        "id": "xV4TWxcRYqpX"
      },
      "source": [
        "class Solution:\n",
        "    def minMovesToSeat(self, seats: List[int], students: List[int]) -> int:\n",
        "        seats.sort()\n",
        "        students.sort()\n",
        "        l=len(seats)\n",
        "        d=0\n",
        "        for i in range(l):\n",
        "            d+=abs(seats[i]-students[i])\n",
        "        return(d)"
      ],
      "execution_count": null,
      "outputs": []
    }
  ]
}