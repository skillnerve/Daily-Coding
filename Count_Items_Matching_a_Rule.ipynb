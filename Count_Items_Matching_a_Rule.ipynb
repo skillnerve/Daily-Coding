{
  "nbformat": 4,
  "nbformat_minor": 0,
  "metadata": {
    "colab": {
      "name": "Count Items Matching a Rule.ipynb",
      "provenance": [],
      "authorship_tag": "ABX9TyNNZdzuHkUl2VRoF+16t0dP",
      "include_colab_link": true
    },
    "kernelspec": {
      "name": "python3",
      "display_name": "Python 3"
    },
    "language_info": {
      "name": "python"
    }
  },
  "cells": [
    {
      "cell_type": "markdown",
      "metadata": {
        "id": "view-in-github",
        "colab_type": "text"
      },
      "source": [
        "<a href=\"https://colab.research.google.com/github/skillnerve/Daily-coding/blob/main/Count_Items_Matching_a_Rule.ipynb\" target=\"_parent\"><img src=\"https://colab.research.google.com/assets/colab-badge.svg\" alt=\"Open In Colab\"/></a>"
      ]
    },
    {
      "cell_type": "code",
      "metadata": {
        "id": "x5bQPG_xry2E"
      },
      "source": [
        "class Solution:\n",
        "    def countMatches(self, items: List[List[str]], ruleKey: str, ruleValue: str) -> int:\n",
        "        count=0\n",
        "        for i in items:\n",
        "            if ruleKey=='type':\n",
        "                if ruleValue==i[0]:\n",
        "                    count+=1\n",
        "            elif ruleKey=='color':\n",
        "                if ruleValue==i[1]:\n",
        "                    count+=1\n",
        "            else:\n",
        "                if ruleValue==i[2]:\n",
        "                    count+=1\n",
        "        return(count)"
      ],
      "execution_count": null,
      "outputs": []
    }
  ]
}