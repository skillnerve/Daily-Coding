{
  "nbformat": 4,
  "nbformat_minor": 0,
  "metadata": {
    "colab": {
      "name": "Matrix Diagonal Sum.ipynb",
      "provenance": [],
      "authorship_tag": "ABX9TyOHYK4Rkn8tQYRLB+p5gKUt",
      "include_colab_link": true
    },
    "kernelspec": {
      "name": "python3",
      "display_name": "Python 3"
    },
    "language_info": {
      "name": "python"
    }
  },
  "cells": [
    {
      "cell_type": "markdown",
      "metadata": {
        "id": "view-in-github",
        "colab_type": "text"
      },
      "source": [
        "<a href=\"https://colab.research.google.com/github/skillnerve/Daily-coding/blob/main/Matrix_Diagonal_Sum.ipynb\" target=\"_parent\"><img src=\"https://colab.research.google.com/assets/colab-badge.svg\" alt=\"Open In Colab\"/></a>"
      ]
    },
    {
      "cell_type": "code",
      "metadata": {
        "id": "x5bQPG_xry2E"
      },
      "source": [
        "class Solution:\n",
        "    def diagonalSum(self, mat: List[List[int]]) -> int:\n",
        "        if len(mat)==1:\n",
        "            return(mat[0][0])\n",
        "        sums=0\n",
        "        for i in range(len(mat)):\n",
        "            sums+=mat[i][i]+mat[i][-1*i-1]\n",
        "        if len(mat)%2==0:\n",
        "            return(sums)\n",
        "        return(sums-mat[int(len(mat)/2)][int(len(mat)/2)])"
      ],
      "execution_count": null,
      "outputs": []
    }
  ]
}