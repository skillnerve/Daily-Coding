{
  "nbformat": 4,
  "nbformat_minor": 0,
  "metadata": {
    "colab": {
      "name": "Running Sum of 1d Array.ipynb",
      "provenance": [],
      "authorship_tag": "ABX9TyOUB45+VRYZeIfXKGtB/u/A",
      "include_colab_link": true
    },
    "kernelspec": {
      "name": "python3",
      "display_name": "Python 3"
    },
    "language_info": {
      "name": "python"
    }
  },
  "cells": [
    {
      "cell_type": "markdown",
      "metadata": {
        "id": "view-in-github",
        "colab_type": "text"
      },
      "source": [
        "<a href=\"https://colab.research.google.com/github/skillnerve/Daily-coding/blob/main/Running_Sum_of_1d_Array.ipynb\" target=\"_parent\"><img src=\"https://colab.research.google.com/assets/colab-badge.svg\" alt=\"Open In Colab\"/></a>"
      ]
    },
    {
      "cell_type": "code",
      "metadata": {
        "id": "x5bQPG_xry2E"
      },
      "source": [
        "class Solution:\n",
        "    def runningSum(self, nums: List[int]) -> List[int]:\n",
        "        A=[]\n",
        "        for i in range(1,len(nums)+1):\n",
        "            A.append(sum(nums[:i]))\n",
        "        return(A)"
      ],
      "execution_count": null,
      "outputs": []
    }
  ]
}