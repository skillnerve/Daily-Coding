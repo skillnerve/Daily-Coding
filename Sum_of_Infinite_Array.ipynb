{
  "nbformat": 4,
  "nbformat_minor": 0,
  "metadata": {
    "colab": {
      "name": "Sum of Infinite Array.ipynb",
      "provenance": [],
      "authorship_tag": "ABX9TyNTEmUw9TgwiFPHzJG8pzP4",
      "include_colab_link": true
    },
    "kernelspec": {
      "name": "python3",
      "display_name": "Python 3"
    },
    "language_info": {
      "name": "python"
    }
  },
  "cells": [
    {
      "cell_type": "markdown",
      "metadata": {
        "id": "view-in-github",
        "colab_type": "text"
      },
      "source": [
        "<a href=\"https://colab.research.google.com/github/skillnerve/Daily-coding/blob/main/Sum_of_Infinite_Array.ipynb\" target=\"_parent\"><img src=\"https://colab.research.google.com/assets/colab-badge.svg\" alt=\"Open In Colab\"/></a>"
      ]
    },
    {
      "cell_type": "code",
      "metadata": {
        "id": "rVAK9TYHUWAZ"
      },
      "source": [
        "def sumInRanges(arr, n, queries, q):\n",
        "\n",
        "    # Write your function Here.\n",
        "    while n>0:\n",
        "        answer=[]\n",
        "        while q>0:\n",
        "            lr=queries\n",
        "            ans=0\n",
        "            for i in range(lr[0],lr[1]+1):\n",
        "                ans+=queries[(i%n)-1]%1000000007\n",
        "            answer.append(ans%1000000007)\n",
        "            q-=1\n",
        "        print(' '.join(answer))\n",
        "        print('\\n')\n",
        "        n-=1\n",
        "# There is a small problem with this answer as format of queries is not understood propely"
      ],
      "execution_count": null,
      "outputs": []
    }
  ]
}