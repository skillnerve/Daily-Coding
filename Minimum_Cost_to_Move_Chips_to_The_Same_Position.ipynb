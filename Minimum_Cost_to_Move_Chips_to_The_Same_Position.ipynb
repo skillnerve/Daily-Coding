{
  "nbformat": 4,
  "nbformat_minor": 0,
  "metadata": {
    "colab": {
      "name": "Minimum Cost to Move Chips to The Same Position.ipynb",
      "provenance": [],
      "authorship_tag": "ABX9TyMN6MAqbTUMjMXIVoLvA8GU",
      "include_colab_link": true
    },
    "kernelspec": {
      "name": "python3",
      "display_name": "Python 3"
    },
    "language_info": {
      "name": "python"
    }
  },
  "cells": [
    {
      "cell_type": "markdown",
      "metadata": {
        "id": "view-in-github",
        "colab_type": "text"
      },
      "source": [
        "<a href=\"https://colab.research.google.com/github/skillnerve/Daily-coding/blob/main/Minimum_Cost_to_Move_Chips_to_The_Same_Position.ipynb\" target=\"_parent\"><img src=\"https://colab.research.google.com/assets/colab-badge.svg\" alt=\"Open In Colab\"/></a>"
      ]
    },
    {
      "cell_type": "code",
      "metadata": {
        "id": "rVAK9TYHUWAZ"
      },
      "source": [
        "class Solution:\n",
        "    def minCostToMoveChips(self, position: List[int]) -> int:\n",
        "        e=0\n",
        "        o=0\n",
        "        for i in position:\n",
        "            if i%2==0:\n",
        "                e+=1 \n",
        "            else:\n",
        "                o+=1\n",
        "        return(min(e,o))\n"
      ],
      "execution_count": null,
      "outputs": []
    }
  ]
}