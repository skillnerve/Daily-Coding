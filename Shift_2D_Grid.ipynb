{
  "nbformat": 4,
  "nbformat_minor": 0,
  "metadata": {
    "colab": {
      "name": "Shift 2D Grid.ipynb",
      "provenance": [],
      "authorship_tag": "ABX9TyPUPVomOTUz9UNRxHVgeF1w",
      "include_colab_link": true
    },
    "kernelspec": {
      "name": "python3",
      "display_name": "Python 3"
    },
    "language_info": {
      "name": "python"
    }
  },
  "cells": [
    {
      "cell_type": "markdown",
      "metadata": {
        "id": "view-in-github",
        "colab_type": "text"
      },
      "source": [
        "<a href=\"https://colab.research.google.com/github/skillnerve/Daily-coding/blob/main/Shift_2D_Grid.ipynb\" target=\"_parent\"><img src=\"https://colab.research.google.com/assets/colab-badge.svg\" alt=\"Open In Colab\"/></a>"
      ]
    },
    {
      "cell_type": "code",
      "metadata": {
        "id": "IsaPh_PdILjB"
      },
      "source": [
        "class Solution:\n",
        "    def shiftGrid(self, grid: List[List[int]], k: int) -> List[List[int]]:\n",
        "        k=k%(len(grid)*len(grid[0]))\n",
        "        q=[]\n",
        "        t=0\n",
        "        for i in grid:\n",
        "            for j in i:\n",
        "                q.append(j)\n",
        "        for i in range(len(grid)):\n",
        "            for j in range(len(grid[0])):\n",
        "                grid[i][j]=q[t-k]\n",
        "                t+=1\n",
        "        return(grid)"
      ],
      "execution_count": null,
      "outputs": []
    }
  ]
}