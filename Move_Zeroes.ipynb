{
  "nbformat": 4,
  "nbformat_minor": 0,
  "metadata": {
    "colab": {
      "name": "Move Zeroes.ipynb",
      "provenance": [],
      "authorship_tag": "ABX9TyNfNvdqWPnPeUzULW6oq3Aw",
      "include_colab_link": true
    },
    "kernelspec": {
      "name": "python3",
      "display_name": "Python 3"
    },
    "language_info": {
      "name": "python"
    }
  },
  "cells": [
    {
      "cell_type": "markdown",
      "metadata": {
        "id": "view-in-github",
        "colab_type": "text"
      },
      "source": [
        "<a href=\"https://colab.research.google.com/github/skillnerve/Daily-coding/blob/main/Move_Zeroes.ipynb\" target=\"_parent\"><img src=\"https://colab.research.google.com/assets/colab-badge.svg\" alt=\"Open In Colab\"/></a>"
      ]
    },
    {
      "cell_type": "code",
      "metadata": {
        "id": "1ckSsK6h8Zeb"
      },
      "source": [
        "class Solution:\n",
        "    def moveZeroes(self, nums: List[int]) -> None:\n",
        "        \"\"\"\n",
        "        Do not return anything, modify nums in-place instead.\n",
        "        \"\"\"\n",
        "        q=len(nums)\n",
        "        i=0\n",
        "        while i < q:\n",
        "            if nums[i]==0:\n",
        "                t=i\n",
        "                i=0\n",
        "                q-=1\n",
        "                i-=1\n",
        "                while t<len(nums)-1:\n",
        "                    nums[t]=nums[t+1]\n",
        "                    t+=1\n",
        "                nums[t]=0\n",
        "            i+=1"
      ],
      "execution_count": null,
      "outputs": []
    }
  ]
}