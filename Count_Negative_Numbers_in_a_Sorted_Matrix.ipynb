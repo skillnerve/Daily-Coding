{
  "nbformat": 4,
  "nbformat_minor": 0,
  "metadata": {
    "colab": {
      "name": "Count Negative Numbers in a Sorted Matrix.ipynb",
      "provenance": [],
      "authorship_tag": "ABX9TyP2YHZ7L/mX5VRPYcPbVuM2",
      "include_colab_link": true
    },
    "kernelspec": {
      "name": "python3",
      "display_name": "Python 3"
    },
    "language_info": {
      "name": "python"
    }
  },
  "cells": [
    {
      "cell_type": "markdown",
      "metadata": {
        "id": "view-in-github",
        "colab_type": "text"
      },
      "source": [
        "<a href=\"https://colab.research.google.com/github/skillnerve/Daily-coding/blob/main/Count_Negative_Numbers_in_a_Sorted_Matrix.ipynb\" target=\"_parent\"><img src=\"https://colab.research.google.com/assets/colab-badge.svg\" alt=\"Open In Colab\"/></a>"
      ]
    },
    {
      "cell_type": "code",
      "metadata": {
        "id": "rVAK9TYHUWAZ"
      },
      "source": [
        "class Solution:\n",
        "    def countNegatives(self, grid: List[List[int]]) -> int:\n",
        "        l=0\n",
        "        for i in grid:\n",
        "            k=0\n",
        "            for j in i:\n",
        "                if j<0:\n",
        "                    break\n",
        "                k+=1\n",
        "            l+=len(i)-k\n",
        "        return(l)"
      ],
      "execution_count": null,
      "outputs": []
    }
  ]
}