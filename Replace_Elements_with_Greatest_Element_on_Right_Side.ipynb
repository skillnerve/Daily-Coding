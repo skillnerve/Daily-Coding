{
  "nbformat": 4,
  "nbformat_minor": 0,
  "metadata": {
    "colab": {
      "name": "Replace Elements with Greatest Element on Right Side.ipynb",
      "provenance": [],
      "authorship_tag": "ABX9TyPSIYcPK03WlY1qxIFp8/7u",
      "include_colab_link": true
    },
    "kernelspec": {
      "name": "python3",
      "display_name": "Python 3"
    },
    "language_info": {
      "name": "python"
    }
  },
  "cells": [
    {
      "cell_type": "markdown",
      "metadata": {
        "id": "view-in-github",
        "colab_type": "text"
      },
      "source": [
        "<a href=\"https://colab.research.google.com/github/skillnerve/Daily-coding/blob/main/Replace_Elements_with_Greatest_Element_on_Right_Side.ipynb\" target=\"_parent\"><img src=\"https://colab.research.google.com/assets/colab-badge.svg\" alt=\"Open In Colab\"/></a>"
      ]
    },
    {
      "cell_type": "code",
      "metadata": {
        "id": "rVAK9TYHUWAZ"
      },
      "source": [
        "class Solution:\n",
        "    def replaceElements(self, arr: List[int]) -> List[int]:\n",
        "        if len(arr)>1:\n",
        "            for i in range(len(arr)-1):\n",
        "                arr[i]=max(arr[i+1:])\n",
        "            arr[i+1]=-1\n",
        "        else:\n",
        "            arr[0]=-1\n",
        "            \n",
        "        return(arr)\n"
      ],
      "execution_count": null,
      "outputs": []
    }
  ]
}