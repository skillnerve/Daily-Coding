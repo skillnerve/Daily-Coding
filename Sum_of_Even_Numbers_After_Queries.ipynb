{
  "nbformat": 4,
  "nbformat_minor": 0,
  "metadata": {
    "colab": {
      "name": "Sum of Even Numbers After Queries.ipynb",
      "provenance": [],
      "authorship_tag": "ABX9TyNhZ0Z2mjwIK4aOd/5oziXE",
      "include_colab_link": true
    },
    "kernelspec": {
      "name": "python3",
      "display_name": "Python 3"
    },
    "language_info": {
      "name": "python"
    }
  },
  "cells": [
    {
      "cell_type": "markdown",
      "metadata": {
        "id": "view-in-github",
        "colab_type": "text"
      },
      "source": [
        "<a href=\"https://colab.research.google.com/github/skillnerve/Daily-coding/blob/main/Sum_of_Even_Numbers_After_Queries.ipynb\" target=\"_parent\"><img src=\"https://colab.research.google.com/assets/colab-badge.svg\" alt=\"Open In Colab\"/></a>"
      ]
    },
    {
      "cell_type": "code",
      "metadata": {
        "id": "1ckSsK6h8Zeb"
      },
      "source": [
        "class Solution:\n",
        "    def sumEvenAfterQueries(self, A: List[int], queries: List[List[int]]) -> List[int]:\n",
        "        t=0\n",
        "        ans=[]\n",
        "        for i in queries:\n",
        "            A[i[1]]+=i[0]\n",
        "            k=0\n",
        "            for j in range(len(A)):\n",
        "                if A[j]%2==0:\n",
        "                    k+=A[j]\n",
        "                    # print(k)\n",
        "            # print(k,t)\n",
        "            ans.append(k)\n",
        "            t+=1\n",
        "        return(ans)"
      ],
      "execution_count": null,
      "outputs": []
    }
  ]
}