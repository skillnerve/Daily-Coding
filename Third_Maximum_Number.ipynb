{
  "nbformat": 4,
  "nbformat_minor": 0,
  "metadata": {
    "colab": {
      "name": "Third Maximum Number.ipynb",
      "provenance": [],
      "authorship_tag": "ABX9TyMe4DwgKJGcY6ERAhAifiV8",
      "include_colab_link": true
    },
    "kernelspec": {
      "name": "python3",
      "display_name": "Python 3"
    },
    "language_info": {
      "name": "python"
    }
  },
  "cells": [
    {
      "cell_type": "markdown",
      "metadata": {
        "id": "view-in-github",
        "colab_type": "text"
      },
      "source": [
        "<a href=\"https://colab.research.google.com/github/skillnerve/Daily-coding/blob/main/Third_Maximum_Number.ipynb\" target=\"_parent\"><img src=\"https://colab.research.google.com/assets/colab-badge.svg\" alt=\"Open In Colab\"/></a>"
      ]
    },
    {
      "cell_type": "code",
      "metadata": {
        "id": "1o285mWMoz3R"
      },
      "source": [
        "class Solution:\n",
        "    def thirdMax(self, nums: List[int]) -> int:\n",
        "        q=sorted(set(nums))\n",
        "        if len(q)<3:\n",
        "            return(q[-1])\n",
        "        else:\n",
        "            return(q[-3])"
      ],
      "execution_count": null,
      "outputs": []
    }
  ]
}