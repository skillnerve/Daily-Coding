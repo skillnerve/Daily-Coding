{
  "nbformat": 4,
  "nbformat_minor": 0,
  "metadata": {
    "colab": {
      "name": "Sum of Even Numbers After Queries_f.ipynb",
      "provenance": [],
      "authorship_tag": "ABX9TyNFJcgJ67Ln+vX1Tgol8vPt",
      "include_colab_link": true
    },
    "kernelspec": {
      "name": "python3",
      "display_name": "Python 3"
    },
    "language_info": {
      "name": "python"
    }
  },
  "cells": [
    {
      "cell_type": "markdown",
      "metadata": {
        "id": "view-in-github",
        "colab_type": "text"
      },
      "source": [
        "<a href=\"https://colab.research.google.com/github/skillnerve/Daily-coding/blob/main/Sum_of_Even_Numbers_After_Queries_f.ipynb\" target=\"_parent\"><img src=\"https://colab.research.google.com/assets/colab-badge.svg\" alt=\"Open In Colab\"/></a>"
      ]
    },
    {
      "cell_type": "code",
      "metadata": {
        "id": "1ckSsK6h8Zeb"
      },
      "source": [
        "class Solution:\n",
        "    def sumEvenAfterQueries(self, A: List[int], queries: List[List[int]]) -> List[int]:\n",
        "        t=0\n",
        "        ans=[]\n",
        "        k=0\n",
        "        for j in range(len(A)):\n",
        "            if A[j]%2==0:\n",
        "                k+=A[j] \n",
        "        for i in queries:\n",
        "            ini=A[i[1]]\n",
        "            A[i[1]]+=i[0]\n",
        "            if A[i[1]]%2==0:\n",
        "                if ini%2==0:\n",
        "                    ans.append(k-ini+A[i[1]])\n",
        "                    k=k-ini+A[i[1]]\n",
        "                else:\n",
        "                    ans.append(k+A[i[1]])\n",
        "                    k=k+A[i[1]]\n",
        "            else:\n",
        "                if ini%2==0:\n",
        "                    ans.append(k-ini)\n",
        "                    k=k-ini\n",
        "                else:\n",
        "                    ans.append(k)\n",
        "            t+=1\n",
        "        return(ans)"
      ],
      "execution_count": null,
      "outputs": []
    }
  ]
}