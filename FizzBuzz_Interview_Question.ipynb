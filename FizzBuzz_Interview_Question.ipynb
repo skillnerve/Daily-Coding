{
  "nbformat": 4,
  "nbformat_minor": 0,
  "metadata": {
    "colab": {
      "name": "FizzBuzz Interview Question.ipynb",
      "provenance": [],
      "authorship_tag": "ABX9TyM9pab+wHYoOAVbdDppADnx",
      "include_colab_link": true
    },
    "kernelspec": {
      "name": "python3",
      "display_name": "Python 3"
    },
    "language_info": {
      "name": "python"
    }
  },
  "cells": [
    {
      "cell_type": "markdown",
      "metadata": {
        "id": "view-in-github",
        "colab_type": "text"
      },
      "source": [
        "<a href=\"https://colab.research.google.com/github/skillnerve/Daily-coding/blob/main/FizzBuzz_Interview_Question.ipynb\" target=\"_parent\"><img src=\"https://colab.research.google.com/assets/colab-badge.svg\" alt=\"Open In Colab\"/></a>"
      ]
    },
    {
      "cell_type": "code",
      "execution_count": 22,
      "metadata": {
        "colab": {
          "base_uri": "https://localhost:8080/"
        },
        "id": "guFjJk7vTVZj",
        "outputId": "471c5b92-15ce-4ff8-a2b4-28cbe969823a"
      },
      "outputs": [
        {
          "output_type": "execute_result",
          "data": {
            "text/plain": [
              "[1, 2, 3, 4, 5, 6, 7, 8, 9, 89]"
            ]
          },
          "metadata": {},
          "execution_count": 22
        }
      ],
      "source": [
        "def fizz_buzz(num):\n",
        "\tif num%3==0 and num%5==0:\n",
        "\t  return('FizzBuzz')\n",
        "\telif num%3==0:\n",
        "\t  return('Fizz')\n",
        "\telif num%5==0:\n",
        "\t  return('Buzz')\n",
        "\treturn(str(num))"
      ]
    }
  ]
}