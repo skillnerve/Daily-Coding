{
  "nbformat": 4,
  "nbformat_minor": 0,
  "metadata": {
    "colab": {
      "name": "Contains Duplicate II.ipynb",
      "provenance": [],
      "authorship_tag": "ABX9TyO3F0/AuYgGB3oOqpkN6mUD",
      "include_colab_link": true
    },
    "kernelspec": {
      "name": "python3",
      "display_name": "Python 3"
    },
    "language_info": {
      "name": "python"
    }
  },
  "cells": [
    {
      "cell_type": "markdown",
      "metadata": {
        "id": "view-in-github",
        "colab_type": "text"
      },
      "source": [
        "<a href=\"https://colab.research.google.com/github/skillnerve/Daily-coding/blob/main/Contains_Duplicate_II.ipynb\" target=\"_parent\"><img src=\"https://colab.research.google.com/assets/colab-badge.svg\" alt=\"Open In Colab\"/></a>"
      ]
    },
    {
      "cell_type": "code",
      "metadata": {
        "id": "fvGIJuk3xd-t"
      },
      "source": [
        "class Solution:\n",
        "    def containsNearbyDuplicate(self, nums: List[int], k: int) -> bool:\n",
        "        if len(nums) == len(set(nums)):\n",
        "            return False\n",
        "        for i in range(len(nums)):\n",
        "            try:\n",
        "                if nums[i+1:i+k+2].index(nums[i])+1<=k:\n",
        "                    return(True)\n",
        "            except:\n",
        "                pass\n",
        "        return(False)"
      ],
      "execution_count": null,
      "outputs": []
    }
  ]
}