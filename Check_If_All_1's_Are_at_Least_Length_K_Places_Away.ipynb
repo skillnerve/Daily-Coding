{
  "nbformat": 4,
  "nbformat_minor": 0,
  "metadata": {
    "colab": {
      "name": "Check If All 1's Are at Least Length K Places Away.ipynb",
      "provenance": [],
      "authorship_tag": "ABX9TyMvTqnDvESA9VO7xpBFV1J3",
      "include_colab_link": true
    },
    "kernelspec": {
      "name": "python3",
      "display_name": "Python 3"
    },
    "language_info": {
      "name": "python"
    }
  },
  "cells": [
    {
      "cell_type": "markdown",
      "metadata": {
        "id": "view-in-github",
        "colab_type": "text"
      },
      "source": [
        "<a href=\"https://colab.research.google.com/github/skillnerve/Daily-coding/blob/main/Check_If_All_1's_Are_at_Least_Length_K_Places_Away.ipynb\" target=\"_parent\"><img src=\"https://colab.research.google.com/assets/colab-badge.svg\" alt=\"Open In Colab\"/></a>"
      ]
    },
    {
      "cell_type": "code",
      "metadata": {
        "id": "IFZOGG0aKsO-"
      },
      "source": [
        "class Solution:\n",
        "    def kLengthApart(self, nums: List[int], k: int) -> bool:\n",
        "        t=[]\n",
        "        for i in range(len(nums)):\n",
        "            if nums[i]==1:\n",
        "                t.append(i)\n",
        "        for i in range(len(t)-1):\n",
        "            if t[i+1]-t[i]<=k:\n",
        "                return(False)\n",
        "        return(True)"
      ],
      "execution_count": null,
      "outputs": []
    }
  ]
}