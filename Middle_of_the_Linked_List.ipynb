{
  "nbformat": 4,
  "nbformat_minor": 0,
  "metadata": {
    "colab": {
      "name": "Middle of the Linked List.ipynb",
      "provenance": [],
      "authorship_tag": "ABX9TyOJgb40b68+vRQg3CJWFVcr",
      "include_colab_link": true
    },
    "kernelspec": {
      "name": "python3",
      "display_name": "Python 3"
    },
    "language_info": {
      "name": "python"
    }
  },
  "cells": [
    {
      "cell_type": "markdown",
      "metadata": {
        "id": "view-in-github",
        "colab_type": "text"
      },
      "source": [
        "<a href=\"https://colab.research.google.com/github/skillnerve/Daily-coding/blob/main/Middle_of_the_Linked_List.ipynb\" target=\"_parent\"><img src=\"https://colab.research.google.com/assets/colab-badge.svg\" alt=\"Open In Colab\"/></a>"
      ]
    },
    {
      "cell_type": "code",
      "metadata": {
        "id": "A3_6Kt6z3TnZ"
      },
      "source": [
        "# Definition for singly-linked list.\n",
        "# class ListNode:\n",
        "#     def __init__(self, val=0, next=None):\n",
        "#         self.val = val\n",
        "#         self.next = next\n",
        "class Solution:\n",
        "    def middleNode(self, head: ListNode) -> ListNode:\n",
        "        ans=head\n",
        "        t=1\n",
        "        while head.next!=None:\n",
        "            head=head.next\n",
        "            if t%2==0:\n",
        "                ans=ans.next\n",
        "            t+=1\n",
        "        if t%2==0:\n",
        "            return(ans.next)\n",
        "        return(ans)"
      ],
      "execution_count": null,
      "outputs": []
    }
  ]
}