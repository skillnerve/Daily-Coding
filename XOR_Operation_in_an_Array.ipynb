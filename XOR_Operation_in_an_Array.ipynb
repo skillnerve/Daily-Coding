{
  "nbformat": 4,
  "nbformat_minor": 0,
  "metadata": {
    "colab": {
      "name": "XOR Operation in an Array.ipynb",
      "provenance": [],
      "authorship_tag": "ABX9TyMW2tf4OQOXbaIhbir0XdtK",
      "include_colab_link": true
    },
    "kernelspec": {
      "name": "python3",
      "display_name": "Python 3"
    },
    "language_info": {
      "name": "python"
    }
  },
  "cells": [
    {
      "cell_type": "markdown",
      "metadata": {
        "id": "view-in-github",
        "colab_type": "text"
      },
      "source": [
        "<a href=\"https://colab.research.google.com/github/skillnerve/Daily-coding/blob/main/XOR_Operation_in_an_Array.ipynb\" target=\"_parent\"><img src=\"https://colab.research.google.com/assets/colab-badge.svg\" alt=\"Open In Colab\"/></a>"
      ]
    },
    {
      "cell_type": "code",
      "metadata": {
        "id": "x5bQPG_xry2E"
      },
      "source": [
        "class Solution:\n",
        "    def xorOperation(self, n: int, start: int) -> int:\n",
        "        nums=[]\n",
        "        for i in range(n):\n",
        "            nums.append(start+2*i)\n",
        "        Xor=nums[0]\n",
        "        for i in nums[1:]:\n",
        "            Xor^=i\n",
        "        return(Xor)"
      ],
      "execution_count": null,
      "outputs": []
    }
  ]
}