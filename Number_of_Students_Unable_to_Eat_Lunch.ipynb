{
  "nbformat": 4,
  "nbformat_minor": 0,
  "metadata": {
    "colab": {
      "name": "Number of Students Unable to Eat Lunch.ipynb",
      "provenance": [],
      "authorship_tag": "ABX9TyMJZLDafLTIvXvQBsryJZBi",
      "include_colab_link": true
    },
    "kernelspec": {
      "name": "python3",
      "display_name": "Python 3"
    },
    "language_info": {
      "name": "python"
    }
  },
  "cells": [
    {
      "cell_type": "markdown",
      "metadata": {
        "id": "view-in-github",
        "colab_type": "text"
      },
      "source": [
        "<a href=\"https://colab.research.google.com/github/skillnerve/Daily-coding/blob/main/Number_of_Students_Unable_to_Eat_Lunch.ipynb\" target=\"_parent\"><img src=\"https://colab.research.google.com/assets/colab-badge.svg\" alt=\"Open In Colab\"/></a>"
      ]
    },
    {
      "cell_type": "code",
      "metadata": {
        "id": "rVAK9TYHUWAZ"
      },
      "source": [
        "class Solution:\n",
        "    def countStudents(self, students: List[int], sandwiches: List[int]) -> int:\n",
        "        i=0\n",
        "        j=0\n",
        "        k=len(students)\n",
        "        while i<k:\n",
        "            if students[0]==sandwiches[0]:\n",
        "                j=0\n",
        "                try:\n",
        "                    students.pop(0)\n",
        "                    sandwiches.pop(0)\n",
        "                    i+=1\n",
        "                except:\n",
        "                    return(0)\n",
        "            else:\n",
        "                students.append(students[0])\n",
        "                students.pop(0)\n",
        "                j+=1\n",
        "                if j==len(students):\n",
        "                    return(k-i)\n",
        "            print(j)\n",
        "            print(students)\n",
        "        if len(students)==0:\n",
        "            return(0)"
      ],
      "execution_count": null,
      "outputs": []
    }
  ]
}