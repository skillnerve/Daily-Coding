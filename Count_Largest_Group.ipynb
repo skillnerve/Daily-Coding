{
  "nbformat": 4,
  "nbformat_minor": 0,
  "metadata": {
    "colab": {
      "name": "Count Largest Group.ipynb",
      "provenance": [],
      "authorship_tag": "ABX9TyPrqS4eSRQ9SdIMx9avHo74",
      "include_colab_link": true
    },
    "kernelspec": {
      "name": "python3",
      "display_name": "Python 3"
    },
    "language_info": {
      "name": "python"
    }
  },
  "cells": [
    {
      "cell_type": "markdown",
      "metadata": {
        "id": "view-in-github",
        "colab_type": "text"
      },
      "source": [
        "<a href=\"https://colab.research.google.com/github/skillnerve/Daily-coding/blob/main/Count_Largest_Group.ipynb\" target=\"_parent\"><img src=\"https://colab.research.google.com/assets/colab-badge.svg\" alt=\"Open In Colab\"/></a>"
      ]
    },
    {
      "cell_type": "code",
      "metadata": {
        "id": "8UtlUHl0Ep9T"
      },
      "source": [
        "class Solution:\n",
        "    def countLargestGroup(self, n: int) -> int:\n",
        "        nums=dict()\n",
        "        for i in range(1,n+1):\n",
        "            arr=list(int(j) for j in str(i))\n",
        "            sums=sum(arr)\n",
        "            if sums in list(nums.keys()):\n",
        "                nums[sums].append(i)\n",
        "            else:\n",
        "                nums[sums]=[i]\n",
        "        l=0\n",
        "        ans=0\n",
        "        print(nums)\n",
        "        for j in list(nums.values()):\n",
        "            if l<len(j):\n",
        "                l=len(j)\n",
        "                ans=0\n",
        "            if l==len(j):\n",
        "                ans+=1\n",
        "        return(ans)\n"
      ],
      "execution_count": null,
      "outputs": []
    }
  ]
}