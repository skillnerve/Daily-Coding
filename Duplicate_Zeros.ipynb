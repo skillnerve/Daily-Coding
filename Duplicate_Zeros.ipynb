{
  "nbformat": 4,
  "nbformat_minor": 0,
  "metadata": {
    "colab": {
      "name": "Duplicate Zeros.ipynb",
      "provenance": [],
      "collapsed_sections": [],
      "authorship_tag": "ABX9TyM8y5uIEkzyFdvNqBEcWSDZ",
      "include_colab_link": true
    },
    "kernelspec": {
      "name": "python3",
      "display_name": "Python 3"
    },
    "language_info": {
      "name": "python"
    }
  },
  "cells": [
    {
      "cell_type": "markdown",
      "metadata": {
        "id": "view-in-github",
        "colab_type": "text"
      },
      "source": [
        "<a href=\"https://colab.research.google.com/github/skillnerve/Daily-coding/blob/main/Duplicate_Zeros.ipynb\" target=\"_parent\"><img src=\"https://colab.research.google.com/assets/colab-badge.svg\" alt=\"Open In Colab\"/></a>"
      ]
    },
    {
      "cell_type": "code",
      "metadata": {
        "id": "pU5ZPrn-LiER"
      },
      "source": [
        "class Solution:\n",
        "    def duplicateZeros(self, arr: List[int]) -> None:\n",
        "        \"\"\"\n",
        "        Do not return anything, modify arr in-place instead.\n",
        "        \"\"\"\n",
        "        len_array=len(arr)\n",
        "        t=0\n",
        "        m=0\n",
        "        while t<len_array:\n",
        "            if arr[t]==0:\n",
        "                m=1\n",
        "                k=len_array-1\n",
        "                while k>t:\n",
        "                    arr[k]=arr[k-1]\n",
        "                    k-=1\n",
        "                t+=1\n",
        "            t+=1"
      ],
      "execution_count": null,
      "outputs": []
    }
  ]
}