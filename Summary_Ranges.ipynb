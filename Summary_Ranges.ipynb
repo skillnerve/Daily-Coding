{
  "nbformat": 4,
  "nbformat_minor": 0,
  "metadata": {
    "colab": {
      "name": "Summary Ranges.ipynb",
      "provenance": [],
      "authorship_tag": "ABX9TyOvR/blc+pdJI3dcoqN35pq",
      "include_colab_link": true
    },
    "kernelspec": {
      "name": "python3",
      "display_name": "Python 3"
    },
    "language_info": {
      "name": "python"
    }
  },
  "cells": [
    {
      "cell_type": "markdown",
      "metadata": {
        "id": "view-in-github",
        "colab_type": "text"
      },
      "source": [
        "<a href=\"https://colab.research.google.com/github/skillnerve/Daily-coding/blob/main/Summary_Ranges.ipynb\" target=\"_parent\"><img src=\"https://colab.research.google.com/assets/colab-badge.svg\" alt=\"Open In Colab\"/></a>"
      ]
    },
    {
      "cell_type": "code",
      "metadata": {
        "id": "pU5ZPrn-LiER"
      },
      "source": [
        "class Solution:\n",
        "    def summaryRanges(self, nums: List[int]) -> List[str]:\n",
        "        t=0\n",
        "        ans=[]\n",
        "        while t<len(nums)-1:\n",
        "            k=t\n",
        "            while t+1<len(nums) and nums[t+1]==nums[t]+1:\n",
        "                t+=1\n",
        "            l=t\n",
        "            if l==k:\n",
        "                ans.append('{}'.format(nums[k]))\n",
        "            else:\n",
        "                ans.append('{}->{}'.format(nums[k],nums[l]))\n",
        "            t+=1\n",
        "        if t==len(nums)-1:\n",
        "            ans.append('{}'.format(nums[t]))\n",
        "        return(ans)"
      ],
      "execution_count": null,
      "outputs": []
    }
  ]
}