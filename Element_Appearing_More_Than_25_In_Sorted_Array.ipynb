{
  "nbformat": 4,
  "nbformat_minor": 0,
  "metadata": {
    "colab": {
      "name": "Element Appearing More Than 25% In Sorted Array.ipynb",
      "provenance": [],
      "authorship_tag": "ABX9TyPY+hdxmL+ZYoWYX9BYseuy",
      "include_colab_link": true
    },
    "kernelspec": {
      "name": "python3",
      "display_name": "Python 3"
    },
    "language_info": {
      "name": "python"
    }
  },
  "cells": [
    {
      "cell_type": "markdown",
      "metadata": {
        "id": "view-in-github",
        "colab_type": "text"
      },
      "source": [
        "<a href=\"https://colab.research.google.com/github/skillnerve/Daily-coding/blob/main/Element_Appearing_More_Than_25_In_Sorted_Array.ipynb\" target=\"_parent\"><img src=\"https://colab.research.google.com/assets/colab-badge.svg\" alt=\"Open In Colab\"/></a>"
      ]
    },
    {
      "cell_type": "code",
      "metadata": {
        "id": "1ckSsK6h8Zeb"
      },
      "source": [
        "class Solution:\n",
        "    def findSpecialInteger(self, arr: List[int]) -> int:\n",
        "        k=arr[0]\n",
        "        t=0\n",
        "        l=0\n",
        "        m=0\n",
        "        for i in range(1,len(arr)):\n",
        "            if k<arr[i]:\n",
        "                if l<t:\n",
        "                    l=t\n",
        "                    m=i-1\n",
        "                k=arr[i]\n",
        "                t=0\n",
        "            if k==arr[i]:\n",
        "                t+=1\n",
        "                if l<t:\n",
        "                    l=t\n",
        "                    m=i-1\n",
        "        return(arr[m])"
      ],
      "execution_count": null,
      "outputs": []
    }
  ]
}