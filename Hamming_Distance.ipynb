{
  "nbformat": 4,
  "nbformat_minor": 0,
  "metadata": {
    "colab": {
      "name": "Hamming Distance.ipynb",
      "provenance": [],
      "authorship_tag": "ABX9TyPfgba49ld+lb4BByGr1lq2",
      "include_colab_link": true
    },
    "kernelspec": {
      "name": "python3",
      "display_name": "Python 3"
    },
    "language_info": {
      "name": "python"
    }
  },
  "cells": [
    {
      "cell_type": "markdown",
      "metadata": {
        "id": "view-in-github",
        "colab_type": "text"
      },
      "source": [
        "<a href=\"https://colab.research.google.com/github/skillnerve/Daily-coding/blob/main/Hamming_Distance.ipynb\" target=\"_parent\"><img src=\"https://colab.research.google.com/assets/colab-badge.svg\" alt=\"Open In Colab\"/></a>"
      ]
    },
    {
      "cell_type": "code",
      "metadata": {
        "id": "2qogGh4y42Nq"
      },
      "source": [
        "class Solution:\n",
        "    def hammingDistance(self, x: int, y: int) -> int:\n",
        "        ans=x^y\n",
        "        if x==y:\n",
        "            return(0)\n",
        "        t=1\n",
        "        while ans & (ans-1)!=0:\n",
        "            ans=ans & (ans-1)\n",
        "            t+=1\n",
        "        return(t)"
      ],
      "execution_count": null,
      "outputs": []
    }
  ]
}