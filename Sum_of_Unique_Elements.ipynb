{
  "nbformat": 4,
  "nbformat_minor": 0,
  "metadata": {
    "colab": {
      "name": "Sum of Unique Elements.ipynb",
      "provenance": [],
      "authorship_tag": "ABX9TyNcqxEoXxtd3vL3cV1jWyx4",
      "include_colab_link": true
    },
    "kernelspec": {
      "name": "python3",
      "display_name": "Python 3"
    },
    "language_info": {
      "name": "python"
    }
  },
  "cells": [
    {
      "cell_type": "markdown",
      "metadata": {
        "id": "view-in-github",
        "colab_type": "text"
      },
      "source": [
        "<a href=\"https://colab.research.google.com/github/skillnerve/Daily-coding/blob/main/Sum_of_Unique_Elements.ipynb\" target=\"_parent\"><img src=\"https://colab.research.google.com/assets/colab-badge.svg\" alt=\"Open In Colab\"/></a>"
      ]
    },
    {
      "cell_type": "code",
      "metadata": {
        "id": "rVAK9TYHUWAZ"
      },
      "source": [
        "class Solution:\n",
        "    def sumOfUnique(self, nums: List[int]) -> int:\n",
        "        sums=0\n",
        "        for i in range(len(nums)):\n",
        "            if nums[i] in nums[:i]+nums[i+1:]:\n",
        "                pass\n",
        "            else:\n",
        "                sums+=nums[i]\n",
        "        return(sums)"
      ],
      "execution_count": null,
      "outputs": []
    }
  ]
}