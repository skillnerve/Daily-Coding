{
  "nbformat": 4,
  "nbformat_minor": 0,
  "metadata": {
    "colab": {
      "name": "Longest Continuous Increasing Subsequence.ipynb",
      "provenance": [],
      "authorship_tag": "ABX9TyP8t4RkbLkVRED12ne9GHBA",
      "include_colab_link": true
    },
    "kernelspec": {
      "name": "python3",
      "display_name": "Python 3"
    },
    "language_info": {
      "name": "python"
    }
  },
  "cells": [
    {
      "cell_type": "markdown",
      "metadata": {
        "id": "view-in-github",
        "colab_type": "text"
      },
      "source": [
        "<a href=\"https://colab.research.google.com/github/skillnerve/Daily-coding/blob/main/Longest_Continuous_Increasing_Subsequence.ipynb\" target=\"_parent\"><img src=\"https://colab.research.google.com/assets/colab-badge.svg\" alt=\"Open In Colab\"/></a>"
      ]
    },
    {
      "cell_type": "code",
      "metadata": {
        "id": "pU5ZPrn-LiER"
      },
      "source": [
        "class Solution:\n",
        "    def findLengthOfLCIS(self, nums: List[int]) -> int:\n",
        "        t=0\n",
        "        count=0\n",
        "        past_count=0\n",
        "        while t<len(nums):\n",
        "            if t==0:\n",
        "                q=nums[t]\n",
        "            else:\n",
        "                if q<nums[t]:\n",
        "                    q=nums[t]\n",
        "                    count+=1\n",
        "                else:\n",
        "                    if past_count<count:\n",
        "                        past_count=count\n",
        "                    count=0\n",
        "                    q=nums[t]\n",
        "            t+=1\n",
        "        if count>past_count:\n",
        "            return(count+1)\n",
        "        return(past_count+1)"
      ],
      "execution_count": null,
      "outputs": []
    }
  ]
}