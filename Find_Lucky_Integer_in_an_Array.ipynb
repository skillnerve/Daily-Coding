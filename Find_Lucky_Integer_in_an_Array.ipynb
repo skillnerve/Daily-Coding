{
  "nbformat": 4,
  "nbformat_minor": 0,
  "metadata": {
    "colab": {
      "name": "Find Lucky Integer in an Array.ipynb",
      "provenance": [],
      "authorship_tag": "ABX9TyPPveLohqTcAj1RmFZrPFKR",
      "include_colab_link": true
    },
    "kernelspec": {
      "name": "python3",
      "display_name": "Python 3"
    },
    "language_info": {
      "name": "python"
    }
  },
  "cells": [
    {
      "cell_type": "markdown",
      "metadata": {
        "id": "view-in-github",
        "colab_type": "text"
      },
      "source": [
        "<a href=\"https://colab.research.google.com/github/skillnerve/Daily-coding/blob/main/Find_Lucky_Integer_in_an_Array.ipynb\" target=\"_parent\"><img src=\"https://colab.research.google.com/assets/colab-badge.svg\" alt=\"Open In Colab\"/></a>"
      ]
    },
    {
      "cell_type": "code",
      "metadata": {
        "id": "8UtlUHl0Ep9T"
      },
      "source": [
        "class Solution:\n",
        "    def findLucky(self, arr: List[int]) -> int:\n",
        "        d=dict()\n",
        "        ans=-1\n",
        "        for i in arr:\n",
        "            if i in list(d.keys()):\n",
        "                d[i]+=1\n",
        "            else:\n",
        "                d[i]=1\n",
        "        for i in range(len(list(d.keys()))):\n",
        "            if list(d.keys())[i]==list(d.values())[i]:\n",
        "                if list(d.keys())[i]>ans:\n",
        "                    ans=list(d.keys())[i]\n",
        "        return(ans)"
      ],
      "execution_count": null,
      "outputs": []
    }
  ]
}