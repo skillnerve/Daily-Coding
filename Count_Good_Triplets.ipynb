{
  "nbformat": 4,
  "nbformat_minor": 0,
  "metadata": {
    "colab": {
      "name": "Count Good Triplets.ipynb",
      "provenance": [],
      "authorship_tag": "ABX9TyMMr/ZHhJldErw6+MOiPRUi",
      "include_colab_link": true
    },
    "kernelspec": {
      "name": "python3",
      "display_name": "Python 3"
    },
    "language_info": {
      "name": "python"
    }
  },
  "cells": [
    {
      "cell_type": "markdown",
      "metadata": {
        "id": "view-in-github",
        "colab_type": "text"
      },
      "source": [
        "<a href=\"https://colab.research.google.com/github/skillnerve/Daily-coding/blob/main/Count_Good_Triplets.ipynb\" target=\"_parent\"><img src=\"https://colab.research.google.com/assets/colab-badge.svg\" alt=\"Open In Colab\"/></a>"
      ]
    },
    {
      "cell_type": "code",
      "metadata": {
        "id": "x5bQPG_xry2E"
      },
      "source": [
        "class Solution:\n",
        "    def countGoodTriplets(self, arr: List[int], a: int, b: int, c: int) -> int:\n",
        "        s=0\n",
        "        for i in range(len(arr)):\n",
        "            for j in range(i+1,len(arr)):\n",
        "                for k in range(j+1,len(arr)):\n",
        "                    if abs(arr[i]-arr[j])<=a and abs(arr[j]-arr[k])<=b and abs(arr[i]-arr[k])<=c:\n",
        "                        s+=1\n",
        "        return(s)"
      ],
      "execution_count": null,
      "outputs": []
    }
  ]
}