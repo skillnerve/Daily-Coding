{
  "nbformat": 4,
  "nbformat_minor": 0,
  "metadata": {
    "colab": {
      "name": "Check If It Is a Straight Line.ipynb",
      "provenance": [],
      "authorship_tag": "ABX9TyORxAXaU17KsQFe0NGedwvX",
      "include_colab_link": true
    },
    "kernelspec": {
      "name": "python3",
      "display_name": "Python 3"
    },
    "language_info": {
      "name": "python"
    }
  },
  "cells": [
    {
      "cell_type": "markdown",
      "metadata": {
        "id": "view-in-github",
        "colab_type": "text"
      },
      "source": [
        "<a href=\"https://colab.research.google.com/github/skillnerve/Daily-coding/blob/main/Check_If_It_Is_a_Straight_Line.ipynb\" target=\"_parent\"><img src=\"https://colab.research.google.com/assets/colab-badge.svg\" alt=\"Open In Colab\"/></a>"
      ]
    },
    {
      "cell_type": "code",
      "metadata": {
        "id": "pU5ZPrn-LiER"
      },
      "source": [
        "class Solution:\n",
        "    def checkStraightLine(self, coordinates: List[List[int]]) -> bool:\n",
        "        if (coordinates[0][0]-coordinates[1][0])!=0:\n",
        "            slope=(coordinates[0][1]-coordinates[1][1])/(coordinates[0][0]-coordinates[1][0])\n",
        "            for i in range(2,len(coordinates)):\n",
        "                if (coordinates[0][0]-coordinates[i][0])==0:\n",
        "                    return(False)\n",
        "                if (coordinates[0][1]-coordinates[i][1])/(coordinates[0][0]-coordinates[i][0])!=slope:\n",
        "                    return(False)\n",
        "            return(True)\n",
        "        else:\n",
        "            for i in range(2,len(coordinates)):\n",
        "                if (coordinates[0][0]-coordinates[i][0])!=0:\n",
        "                    return(False)\n",
        "            return(True)\n"
      ],
      "execution_count": null,
      "outputs": []
    }
  ]
}