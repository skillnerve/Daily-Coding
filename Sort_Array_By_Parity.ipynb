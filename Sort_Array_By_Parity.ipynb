{
  "nbformat": 4,
  "nbformat_minor": 0,
  "metadata": {
    "colab": {
      "name": "Sort Array By Parity.ipynb",
      "provenance": [],
      "authorship_tag": "ABX9TyOzyXkhJbmomr3B0BUkTgHj",
      "include_colab_link": true
    },
    "kernelspec": {
      "name": "python3",
      "display_name": "Python 3"
    },
    "language_info": {
      "name": "python"
    }
  },
  "cells": [
    {
      "cell_type": "markdown",
      "metadata": {
        "id": "view-in-github",
        "colab_type": "text"
      },
      "source": [
        "<a href=\"https://colab.research.google.com/github/skillnerve/Daily-coding/blob/main/Sort_Array_By_Parity.ipynb\" target=\"_parent\"><img src=\"https://colab.research.google.com/assets/colab-badge.svg\" alt=\"Open In Colab\"/></a>"
      ]
    },
    {
      "cell_type": "code",
      "metadata": {
        "id": "rVAK9TYHUWAZ"
      },
      "source": [
        "class Solution:\n",
        "    def sortArrayByParity(self, A: List[int]) -> List[int]:\n",
        "        even=[]\n",
        "        odd=[]\n",
        "        for i in range(len(A)):\n",
        "            if A[i]%2==0:\n",
        "                even.append(A[i])\n",
        "            else:\n",
        "                odd.append(A[i])\n",
        "        return(even+odd)"
      ],
      "execution_count": null,
      "outputs": []
    }
  ]
}