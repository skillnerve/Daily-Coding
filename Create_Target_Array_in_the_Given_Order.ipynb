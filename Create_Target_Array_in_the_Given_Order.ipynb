{
  "nbformat": 4,
  "nbformat_minor": 0,
  "metadata": {
    "colab": {
      "name": "Create Target Array in the Given Order.ipynb",
      "provenance": [],
      "authorship_tag": "ABX9TyNbl2s+eNMIL+bdrd1YH7yb",
      "include_colab_link": true
    },
    "kernelspec": {
      "name": "python3",
      "display_name": "Python 3"
    },
    "language_info": {
      "name": "python"
    }
  },
  "cells": [
    {
      "cell_type": "markdown",
      "metadata": {
        "id": "view-in-github",
        "colab_type": "text"
      },
      "source": [
        "<a href=\"https://colab.research.google.com/github/skillnerve/Daily-coding/blob/main/Create_Target_Array_in_the_Given_Order.ipynb\" target=\"_parent\"><img src=\"https://colab.research.google.com/assets/colab-badge.svg\" alt=\"Open In Colab\"/></a>"
      ]
    },
    {
      "cell_type": "code",
      "metadata": {
        "id": "x5bQPG_xry2E"
      },
      "source": [
        "class Solution:\n",
        "    def createTargetArray(self, nums: List[int], index: List[int]) -> List[int]:\n",
        "        for i in range(len(nums)):\n",
        "            if i>index[i]:\n",
        "                s=nums[i]\n",
        "                for j in range(i-1,index[i]-1,-1):\n",
        "                    nums[j+1]=nums[j]\n",
        "                nums[index[i]]=s\n",
        "        return(nums)"
      ],
      "execution_count": null,
      "outputs": []
    }
  ]
}