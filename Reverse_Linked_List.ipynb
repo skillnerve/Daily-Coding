{
  "nbformat": 4,
  "nbformat_minor": 0,
  "metadata": {
    "colab": {
      "name": "Reverse Linked List.ipynb",
      "provenance": [],
      "authorship_tag": "ABX9TyPsMMXhsiVGg7Wj6Frpxb+4",
      "include_colab_link": true
    },
    "kernelspec": {
      "name": "python3",
      "display_name": "Python 3"
    },
    "language_info": {
      "name": "python"
    }
  },
  "cells": [
    {
      "cell_type": "markdown",
      "metadata": {
        "id": "view-in-github",
        "colab_type": "text"
      },
      "source": [
        "<a href=\"https://colab.research.google.com/github/skillnerve/Daily-coding/blob/main/Reverse_Linked_List.ipynb\" target=\"_parent\"><img src=\"https://colab.research.google.com/assets/colab-badge.svg\" alt=\"Open In Colab\"/></a>"
      ]
    },
    {
      "cell_type": "code",
      "metadata": {
        "id": "r-B-uUpmPzdK"
      },
      "source": [
        "# Definition for singly-linked list.\n",
        "# class ListNode:\n",
        "#     def __init__(self, val=0, next=None):\n",
        "#         self.val = val\n",
        "#         self.next = next\n",
        "class Solution:\n",
        "    def reverseList(self, head: ListNode) -> ListNode:\n",
        "        curr_node=head\n",
        "        prev_node=None\n",
        "        while curr_node!=None:\n",
        "            next_node=curr_node.next\n",
        "            curr_node.next=prev_node\n",
        "            prev_node=curr_node\n",
        "            curr_node=next_node\n",
        "            \n",
        "        return(prev_node)"
      ],
      "execution_count": null,
      "outputs": []
    }
  ]
}