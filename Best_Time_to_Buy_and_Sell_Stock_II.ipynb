{
  "nbformat": 4,
  "nbformat_minor": 0,
  "metadata": {
    "colab": {
      "name": "Best Time to Buy and Sell Stock II.ipynb",
      "provenance": [],
      "authorship_tag": "ABX9TyNHeyk2e1FZRRGbuhhazhXJ",
      "include_colab_link": true
    },
    "kernelspec": {
      "name": "python3",
      "display_name": "Python 3"
    },
    "language_info": {
      "name": "python"
    }
  },
  "cells": [
    {
      "cell_type": "markdown",
      "metadata": {
        "id": "view-in-github",
        "colab_type": "text"
      },
      "source": [
        "<a href=\"https://colab.research.google.com/github/skillnerve/Daily-coding/blob/main/Best_Time_to_Buy_and_Sell_Stock_II.ipynb\" target=\"_parent\"><img src=\"https://colab.research.google.com/assets/colab-badge.svg\" alt=\"Open In Colab\"/></a>"
      ]
    },
    {
      "cell_type": "code",
      "metadata": {
        "id": "1ckSsK6h8Zeb"
      },
      "source": [
        "class Solution:\n",
        "    def maxProfit(self, prices: List[int]) -> int:\n",
        "        ans=0\n",
        "        for i in range(len(prices)-1):\n",
        "            if prices[i+1]>prices[i]:\n",
        "                ans+=prices[i+1]-prices[i]\n",
        "        return(ans)"
      ],
      "execution_count": null,
      "outputs": []
    }
  ]
}