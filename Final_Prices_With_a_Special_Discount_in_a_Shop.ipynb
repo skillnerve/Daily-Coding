{
  "nbformat": 4,
  "nbformat_minor": 0,
  "metadata": {
    "colab": {
      "name": "Final Prices With a Special Discount in a Shop.ipynb",
      "provenance": [],
      "authorship_tag": "ABX9TyNxNzyBLqcqgKTWwwFG6n0o",
      "include_colab_link": true
    },
    "kernelspec": {
      "name": "python3",
      "display_name": "Python 3"
    },
    "language_info": {
      "name": "python"
    }
  },
  "cells": [
    {
      "cell_type": "markdown",
      "metadata": {
        "id": "view-in-github",
        "colab_type": "text"
      },
      "source": [
        "<a href=\"https://colab.research.google.com/github/skillnerve/Daily-coding/blob/main/Final_Prices_With_a_Special_Discount_in_a_Shop.ipynb\" target=\"_parent\"><img src=\"https://colab.research.google.com/assets/colab-badge.svg\" alt=\"Open In Colab\"/></a>"
      ]
    },
    {
      "cell_type": "code",
      "metadata": {
        "id": "rVAK9TYHUWAZ"
      },
      "source": [
        "class Solution:\n",
        "    def finalPrices(self, prices: List[int]) -> List[int]:\n",
        "        A=[]\n",
        "        for i in range(len(prices)):\n",
        "            for j in range(i+1,len(prices)):\n",
        "                if prices[j]<=prices[i]:\n",
        "                    A.append(prices[i]-prices[j])\n",
        "                    break\n",
        "            if len(A)!=i+1:\n",
        "                A.append(prices[i])\n",
        "        return(A)"
      ],
      "execution_count": null,
      "outputs": []
    }
  ]
}