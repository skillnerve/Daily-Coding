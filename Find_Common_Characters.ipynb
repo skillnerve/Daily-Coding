{
  "nbformat": 4,
  "nbformat_minor": 0,
  "metadata": {
    "colab": {
      "name": "Find Common Characters.ipynb",
      "provenance": [],
      "authorship_tag": "ABX9TyPTfUSwY+JVa1qJR1fDQU0p",
      "include_colab_link": true
    },
    "kernelspec": {
      "name": "python3",
      "display_name": "Python 3"
    },
    "language_info": {
      "name": "python"
    }
  },
  "cells": [
    {
      "cell_type": "markdown",
      "metadata": {
        "id": "view-in-github",
        "colab_type": "text"
      },
      "source": [
        "<a href=\"https://colab.research.google.com/github/skillnerve/Daily-coding/blob/main/Find_Common_Characters.ipynb\" target=\"_parent\"><img src=\"https://colab.research.google.com/assets/colab-badge.svg\" alt=\"Open In Colab\"/></a>"
      ]
    },
    {
      "cell_type": "code",
      "metadata": {
        "id": "gfd6PjOKsUaw"
      },
      "source": [
        "class Solution:\n",
        "    def commonChars(self, A: List[str]) -> List[str]:\n",
        "        q=A[0]\n",
        "        ans=[]\n",
        "        for j in q:\n",
        "            l=0\n",
        "            for k in range(1,len(A)):\n",
        "                if j not in A[k]:\n",
        "                    l=1\n",
        "                    break\n",
        "                else:\n",
        "                    A[k]=A[k].replace(j,'',1)\n",
        "            if l==0:\n",
        "                ans.append(j)\n",
        "        return(ans)"
      ],
      "execution_count": null,
      "outputs": []
    }
  ]
}