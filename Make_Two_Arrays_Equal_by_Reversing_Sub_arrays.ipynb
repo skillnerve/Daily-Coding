{
  "nbformat": 4,
  "nbformat_minor": 0,
  "metadata": {
    "colab": {
      "name": "Make Two Arrays Equal by Reversing Sub-arrays.ipynb",
      "provenance": [],
      "authorship_tag": "ABX9TyOjTPbxWWm1KyaWnU7EDO2e",
      "include_colab_link": true
    },
    "kernelspec": {
      "name": "python3",
      "display_name": "Python 3"
    },
    "language_info": {
      "name": "python"
    }
  },
  "cells": [
    {
      "cell_type": "markdown",
      "metadata": {
        "id": "view-in-github",
        "colab_type": "text"
      },
      "source": [
        "<a href=\"https://colab.research.google.com/github/skillnerve/Daily-coding/blob/main/Make_Two_Arrays_Equal_by_Reversing_Sub_arrays.ipynb\" target=\"_parent\"><img src=\"https://colab.research.google.com/assets/colab-badge.svg\" alt=\"Open In Colab\"/></a>"
      ]
    },
    {
      "cell_type": "code",
      "metadata": {
        "id": "rVAK9TYHUWAZ"
      },
      "source": [
        "class Solution:\n",
        "    def canBeEqual(self, target: List[int], arr: List[int]) -> bool:\n",
        "        i=0\n",
        "        while len(arr)>1:\n",
        "            if target[i] in arr:\n",
        "                arr.pop(arr.index(target[i]))\n",
        "                i+=1\n",
        "            else:\n",
        "                return(False)\n",
        "        if target[i] in arr:\n",
        "            return(True)\n",
        "        return(False)\n",
        "        "
      ],
      "execution_count": null,
      "outputs": []
    }
  ]
}