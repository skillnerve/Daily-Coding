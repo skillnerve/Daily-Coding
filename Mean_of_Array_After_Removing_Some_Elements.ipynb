{
  "nbformat": 4,
  "nbformat_minor": 0,
  "metadata": {
    "colab": {
      "name": "Mean of Array After Removing Some Elements.ipynb",
      "provenance": [],
      "authorship_tag": "ABX9TyP5Vk+zH5Ocs9j9j6kdwGcm",
      "include_colab_link": true
    },
    "kernelspec": {
      "name": "python3",
      "display_name": "Python 3"
    },
    "language_info": {
      "name": "python"
    }
  },
  "cells": [
    {
      "cell_type": "markdown",
      "metadata": {
        "id": "view-in-github",
        "colab_type": "text"
      },
      "source": [
        "<a href=\"https://colab.research.google.com/github/skillnerve/Daily-coding/blob/main/Mean_of_Array_After_Removing_Some_Elements.ipynb\" target=\"_parent\"><img src=\"https://colab.research.google.com/assets/colab-badge.svg\" alt=\"Open In Colab\"/></a>"
      ]
    },
    {
      "cell_type": "code",
      "metadata": {
        "id": "8UtlUHl0Ep9T"
      },
      "source": [
        "class Solution:\n",
        "    def trimMean(self, arr: List[int]) -> float:\n",
        "        arr=sorted(arr)\n",
        "        a=int((5*len(arr)/100)+0.5)\n",
        "        return(sum(arr[a:len(arr)-a])/len(arr[a:len(arr)-a]))\n"
      ],
      "execution_count": null,
      "outputs": []
    }
  ]
}