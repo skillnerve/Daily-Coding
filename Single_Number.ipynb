{
  "nbformat": 4,
  "nbformat_minor": 0,
  "metadata": {
    "colab": {
      "name": "Single Number.ipynb",
      "provenance": [],
      "authorship_tag": "ABX9TyN8n0TxjSodTdqMW0ldcSBy",
      "include_colab_link": true
    },
    "kernelspec": {
      "name": "python3",
      "display_name": "Python 3"
    },
    "language_info": {
      "name": "python"
    }
  },
  "cells": [
    {
      "cell_type": "markdown",
      "metadata": {
        "id": "view-in-github",
        "colab_type": "text"
      },
      "source": [
        "<a href=\"https://colab.research.google.com/github/skillnerve/Daily-coding/blob/main/Single_Number.ipynb\" target=\"_parent\"><img src=\"https://colab.research.google.com/assets/colab-badge.svg\" alt=\"Open In Colab\"/></a>"
      ]
    },
    {
      "cell_type": "code",
      "metadata": {
        "id": "2qogGh4y42Nq"
      },
      "source": [
        "class Solution:\n",
        "    def singleNumber(self, nums: List[int]) -> int:\n",
        "        for i in range(len(nums)):\n",
        "            if i==0:\n",
        "                t=nums[i]\n",
        "            else:\n",
        "                t^=nums[i]\n",
        "        return(t)"
      ],
      "execution_count": null,
      "outputs": []
    }
  ]
}