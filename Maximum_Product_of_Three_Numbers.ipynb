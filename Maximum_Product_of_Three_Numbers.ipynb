{
  "nbformat": 4,
  "nbformat_minor": 0,
  "metadata": {
    "colab": {
      "name": "Maximum Product of Three Numbers.ipynb",
      "provenance": [],
      "collapsed_sections": [],
      "authorship_tag": "ABX9TyPw3dxgFc1ZP9nFY46cOSxo",
      "include_colab_link": true
    },
    "kernelspec": {
      "name": "python3",
      "display_name": "Python 3"
    },
    "language_info": {
      "name": "python"
    }
  },
  "cells": [
    {
      "cell_type": "markdown",
      "metadata": {
        "id": "view-in-github",
        "colab_type": "text"
      },
      "source": [
        "<a href=\"https://colab.research.google.com/github/skillnerve/Daily-coding/blob/main/Maximum_Product_of_Three_Numbers.ipynb\" target=\"_parent\"><img src=\"https://colab.research.google.com/assets/colab-badge.svg\" alt=\"Open In Colab\"/></a>"
      ]
    },
    {
      "cell_type": "code",
      "metadata": {
        "id": "pU5ZPrn-LiER"
      },
      "source": [
        "class Solution:\n",
        "    def maximumProduct(self, nums: List[int]) -> int:\n",
        "        nums=sorted(nums)\n",
        "        return(max(nums[-1]*nums[-2]*nums[-3],nums[0]*nums[1]*nums[-1]))"
      ],
      "execution_count": null,
      "outputs": []
    }
  ]
}