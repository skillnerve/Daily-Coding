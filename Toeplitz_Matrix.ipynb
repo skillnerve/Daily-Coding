{
  "nbformat": 4,
  "nbformat_minor": 0,
  "metadata": {
    "colab": {
      "name": "Toeplitz Matrix.ipynb",
      "provenance": [],
      "authorship_tag": "ABX9TyPZtcD41AwMUPHMhfSfLk0U",
      "include_colab_link": true
    },
    "kernelspec": {
      "name": "python3",
      "display_name": "Python 3"
    },
    "language_info": {
      "name": "python"
    }
  },
  "cells": [
    {
      "cell_type": "markdown",
      "metadata": {
        "id": "view-in-github",
        "colab_type": "text"
      },
      "source": [
        "<a href=\"https://colab.research.google.com/github/skillnerve/Daily-coding/blob/main/Toeplitz_Matrix.ipynb\" target=\"_parent\"><img src=\"https://colab.research.google.com/assets/colab-badge.svg\" alt=\"Open In Colab\"/></a>"
      ]
    },
    {
      "cell_type": "code",
      "metadata": {
        "id": "8UtlUHl0Ep9T"
      },
      "source": [
        "class Solution:\n",
        "    def isToeplitzMatrix(self, matrix: List[List[int]]) -> bool:\n",
        "        if len(matrix)==1 or len(matrix[0])==1:\n",
        "            return(True)\n",
        "        \n",
        "        q=len(matrix)-2\n",
        "        w=len(matrix[0])-2\n",
        "        while w>=0:\n",
        "            e=0\n",
        "            ele=matrix[e][w]\n",
        "            e=1\n",
        "            r=w+1\n",
        "            while r<len(matrix[0]) and e<len(matrix):\n",
        "                if ele!=matrix[e][r]:\n",
        "                    print('hi')\n",
        "                    return(False)\n",
        "                r+=1\n",
        "                e+=1\n",
        "            w-=1\n",
        "        \n",
        "        while q>=0:\n",
        "            y=0\n",
        "            ele=matrix[q][y]\n",
        "            y=1\n",
        "            t=q+1\n",
        "            while y<len(matrix[0]) and t<len(matrix):\n",
        "                if ele!=matrix[t][y]:\n",
        "                    return(False)\n",
        "                y+=1\n",
        "                t+=1\n",
        "            q-=1\n",
        "        \n",
        "        return(True)"
      ],
      "execution_count": null,
      "outputs": []
    }
  ]
}