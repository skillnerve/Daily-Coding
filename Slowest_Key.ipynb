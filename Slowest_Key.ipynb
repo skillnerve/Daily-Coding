{
  "nbformat": 4,
  "nbformat_minor": 0,
  "metadata": {
    "colab": {
      "name": "Slowest Key.ipynb",
      "provenance": [],
      "authorship_tag": "ABX9TyO0e/6s3NdBXknhZgaMiUPJ",
      "include_colab_link": true
    },
    "kernelspec": {
      "name": "python3",
      "display_name": "Python 3"
    },
    "language_info": {
      "name": "python"
    }
  },
  "cells": [
    {
      "cell_type": "markdown",
      "metadata": {
        "id": "view-in-github",
        "colab_type": "text"
      },
      "source": [
        "<a href=\"https://colab.research.google.com/github/skillnerve/Daily-coding/blob/main/Slowest_Key.ipynb\" target=\"_parent\"><img src=\"https://colab.research.google.com/assets/colab-badge.svg\" alt=\"Open In Colab\"/></a>"
      ]
    },
    {
      "cell_type": "code",
      "metadata": {
        "id": "1ckSsK6h8Zeb"
      },
      "source": [
        "class Solution:\n",
        "    def slowestKey(self, releaseTimes: List[int], keysPressed: str) -> str:\n",
        "        ans=[]\n",
        "        time=[]\n",
        "        l=[]\n",
        "        for i in range(len(keysPressed)):\n",
        "            if keysPressed[i] not in ans:\n",
        "                if i!=0:\n",
        "                    ans.append(keysPressed[i])\n",
        "                    time.append(releaseTimes[i]-releaseTimes[i-1])\n",
        "                else:\n",
        "                    ans.append(keysPressed[i])\n",
        "                    time.append(releaseTimes[i])\n",
        "            else:\n",
        "                t=ans.index(keysPressed[i])\n",
        "                if time[t]<releaseTimes[i]-releaseTimes[i-1]:\n",
        "                    time[t]=releaseTimes[i]-releaseTimes[i-1]\n",
        "        t=time.index(max(time))\n",
        "        l.append(ans[t])\n",
        "        while t<len(time)-1 and time[time.index(max(time))]==time[t+1]:\n",
        "            l.append(ans[t+1])\n",
        "            t+=1\n",
        "        l=sorted(l)\n",
        "        return(l[-1])"
      ],
      "execution_count": null,
      "outputs": []
    }
  ]
}