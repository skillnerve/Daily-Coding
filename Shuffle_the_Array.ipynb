{
  "nbformat": 4,
  "nbformat_minor": 0,
  "metadata": {
    "colab": {
      "name": "Shuffle the Array.ipynb",
      "provenance": [],
      "authorship_tag": "ABX9TyMk27BWmxlE3tqTnkoYveqF",
      "include_colab_link": true
    },
    "kernelspec": {
      "name": "python3",
      "display_name": "Python 3"
    },
    "language_info": {
      "name": "python"
    }
  },
  "cells": [
    {
      "cell_type": "markdown",
      "metadata": {
        "id": "view-in-github",
        "colab_type": "text"
      },
      "source": [
        "<a href=\"https://colab.research.google.com/github/skillnerve/Daily-coding/blob/main/Shuffle_the_Array.ipynb\" target=\"_parent\"><img src=\"https://colab.research.google.com/assets/colab-badge.svg\" alt=\"Open In Colab\"/></a>"
      ]
    },
    {
      "cell_type": "code",
      "metadata": {
        "id": "x5bQPG_xry2E"
      },
      "source": [
        "class Solution:\n",
        "    def shuffle(self, nums: List[int], n: int) -> List[int]:\n",
        "        A=[]\n",
        "        for i in range(n):\n",
        "            A.append(nums[i])\n",
        "            A.append(nums[i+n])\n",
        "        return(A)\n",
        "        "
      ],
      "execution_count": null,
      "outputs": []
    }
  ]
}