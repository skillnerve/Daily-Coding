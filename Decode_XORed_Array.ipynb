{
  "nbformat": 4,
  "nbformat_minor": 0,
  "metadata": {
    "colab": {
      "name": "Decode XORed Array.ipynb",
      "provenance": [],
      "authorship_tag": "ABX9TyNqyuf48uP02f/8UIt7nfjK",
      "include_colab_link": true
    },
    "kernelspec": {
      "name": "python3",
      "display_name": "Python 3"
    },
    "language_info": {
      "name": "python"
    }
  },
  "cells": [
    {
      "cell_type": "markdown",
      "metadata": {
        "id": "view-in-github",
        "colab_type": "text"
      },
      "source": [
        "<a href=\"https://colab.research.google.com/github/skillnerve/Daily-coding/blob/main/Decode_XORed_Array.ipynb\" target=\"_parent\"><img src=\"https://colab.research.google.com/assets/colab-badge.svg\" alt=\"Open In Colab\"/></a>"
      ]
    },
    {
      "cell_type": "code",
      "metadata": {
        "id": "2qogGh4y42Nq"
      },
      "source": [
        "class Solution:\n",
        "    def decode(self, encoded: List[int], first: int) -> List[int]:\n",
        "        ans=[first]\n",
        "        for i in encoded:\n",
        "            ans.append(first^i)\n",
        "            first=ans[-1]\n",
        "        return(ans)"
      ],
      "execution_count": null,
      "outputs": []
    }
  ]
}