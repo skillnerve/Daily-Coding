{
  "nbformat": 4,
  "nbformat_minor": 0,
  "metadata": {
    "colab": {
      "name": "Minimum Time Visiting All Points.ipynb",
      "provenance": [],
      "authorship_tag": "ABX9TyP9YJd8HVS6l0R8+N+Dul9q",
      "include_colab_link": true
    },
    "kernelspec": {
      "name": "python3",
      "display_name": "Python 3"
    },
    "language_info": {
      "name": "python"
    }
  },
  "cells": [
    {
      "cell_type": "markdown",
      "metadata": {
        "id": "view-in-github",
        "colab_type": "text"
      },
      "source": [
        "<a href=\"https://colab.research.google.com/github/skillnerve/Daily-coding/blob/main/Minimum_Time_Visiting_All_Points.ipynb\" target=\"_parent\"><img src=\"https://colab.research.google.com/assets/colab-badge.svg\" alt=\"Open In Colab\"/></a>"
      ]
    },
    {
      "cell_type": "code",
      "metadata": {
        "id": "x5bQPG_xry2E"
      },
      "source": [
        "class Solution:\n",
        "    def minTimeToVisitAllPoints(self, points: List[List[int]]) -> int:\n",
        "        distance=0\n",
        "        for i in range(len(points)-1):\n",
        "            j=points[i+1]\n",
        "            k=points[i]\n",
        "            distance+=min(abs(j[0]-k[0]),abs(j[1]-k[1]))+max(abs(j[0]-k[0]),abs(j[1]-k[1]))-min(abs(j[0]-k[0]),abs(j[1]-k[1]))\n",
        "        return(distance)\n"
      ],
      "execution_count": null,
      "outputs": []
    }
  ]
}