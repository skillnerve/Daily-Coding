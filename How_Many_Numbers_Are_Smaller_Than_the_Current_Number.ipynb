{
  "nbformat": 4,
  "nbformat_minor": 0,
  "metadata": {
    "colab": {
      "name": "How Many Numbers Are Smaller Than the Current Number.ipynb",
      "provenance": [],
      "authorship_tag": "ABX9TyOLlSStgeNt39jJ9dWrJHpb",
      "include_colab_link": true
    },
    "kernelspec": {
      "name": "python3",
      "display_name": "Python 3"
    },
    "language_info": {
      "name": "python"
    }
  },
  "cells": [
    {
      "cell_type": "markdown",
      "metadata": {
        "id": "view-in-github",
        "colab_type": "text"
      },
      "source": [
        "<a href=\"https://colab.research.google.com/github/skillnerve/Daily-coding/blob/main/How_Many_Numbers_Are_Smaller_Than_the_Current_Number.ipynb\" target=\"_parent\"><img src=\"https://colab.research.google.com/assets/colab-badge.svg\" alt=\"Open In Colab\"/></a>"
      ]
    },
    {
      "cell_type": "code",
      "metadata": {
        "id": "x5bQPG_xry2E"
      },
      "source": [
        "class Solution:\n",
        "    def smallerNumbersThanCurrent(self, nums: List[int]) -> List[int]:\n",
        "        A=[]\n",
        "        m=sorted(nums)\n",
        "        for i in nums:\n",
        "            A.append(m.index(i))\n",
        "        return(A)"
      ],
      "execution_count": null,
      "outputs": []
    }
  ]
}