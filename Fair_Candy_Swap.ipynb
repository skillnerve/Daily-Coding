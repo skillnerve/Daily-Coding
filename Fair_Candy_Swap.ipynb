{
  "nbformat": 4,
  "nbformat_minor": 0,
  "metadata": {
    "colab": {
      "name": "Fair Candy Swap.ipynb",
      "provenance": [],
      "authorship_tag": "ABX9TyM9ailgFe2Frq/Hn6TnyJBI",
      "include_colab_link": true
    },
    "kernelspec": {
      "name": "python3",
      "display_name": "Python 3"
    },
    "language_info": {
      "name": "python"
    }
  },
  "cells": [
    {
      "cell_type": "markdown",
      "metadata": {
        "id": "view-in-github",
        "colab_type": "text"
      },
      "source": [
        "<a href=\"https://colab.research.google.com/github/skillnerve/Daily-coding/blob/main/Fair_Candy_Swap.ipynb\" target=\"_parent\"><img src=\"https://colab.research.google.com/assets/colab-badge.svg\" alt=\"Open In Colab\"/></a>"
      ]
    },
    {
      "cell_type": "code",
      "metadata": {
        "id": "1ckSsK6h8Zeb"
      },
      "source": [
        "class Solution:\n",
        "    def fairCandySwap(self, A: List[int], B: List[int]) -> List[int]:\n",
        "        diff=sum(A)-sum(B)\n",
        "        act_diff=diff/2\n",
        "        for i in A:\n",
        "            if i-act_diff in B:\n",
        "                return((i,int(i-act_diff)))"
      ],
      "execution_count": null,
      "outputs": []
    }
  ]
}