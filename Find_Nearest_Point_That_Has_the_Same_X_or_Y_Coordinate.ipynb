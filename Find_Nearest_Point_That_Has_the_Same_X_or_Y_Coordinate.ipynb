{
  "nbformat": 4,
  "nbformat_minor": 0,
  "metadata": {
    "colab": {
      "name": "Find Nearest Point That Has the Same X or Y Coordinate.ipynb",
      "provenance": [],
      "authorship_tag": "ABX9TyN18xTVbBD8qSGmXU0jCBP8",
      "include_colab_link": true
    },
    "kernelspec": {
      "name": "python3",
      "display_name": "Python 3"
    },
    "language_info": {
      "name": "python"
    }
  },
  "cells": [
    {
      "cell_type": "markdown",
      "metadata": {
        "id": "view-in-github",
        "colab_type": "text"
      },
      "source": [
        "<a href=\"https://colab.research.google.com/github/skillnerve/Daily-coding/blob/main/Find_Nearest_Point_That_Has_the_Same_X_or_Y_Coordinate.ipynb\" target=\"_parent\"><img src=\"https://colab.research.google.com/assets/colab-badge.svg\" alt=\"Open In Colab\"/></a>"
      ]
    },
    {
      "cell_type": "code",
      "metadata": {
        "id": "1o285mWMoz3R"
      },
      "source": [
        "class Solution:\n",
        "    def nearestValidPoint(self, x: int, y: int, points: List[List[int]]) -> int:\n",
        "        dis=1000000\n",
        "        h=0\n",
        "        t=0\n",
        "        for i in points:\n",
        "            if x-i[0]==0 or y-i[1]==0:\n",
        "                h=1\n",
        "                if dis>abs(x-i[0])+abs(y-i[1]):\n",
        "                    dis=abs(x-i[0])+abs(y-i[1])\n",
        "                    ind=t\n",
        "            t+=1\n",
        "        if h==0:\n",
        "            return(-1)\n",
        "        if len(points)==1:\n",
        "            if dis==0:\n",
        "                return(0)\n",
        "        return(ind)"
      ],
      "execution_count": null,
      "outputs": []
    }
  ]
}