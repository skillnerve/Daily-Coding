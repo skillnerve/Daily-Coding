{
  "nbformat": 4,
  "nbformat_minor": 0,
  "metadata": {
    "colab": {
      "name": "Print Matrix in snake Pattern.ipynb",
      "provenance": [],
      "authorship_tag": "ABX9TyNHjEoXugVh1SX855J2ANwe",
      "include_colab_link": true
    },
    "kernelspec": {
      "name": "python3",
      "display_name": "Python 3"
    },
    "language_info": {
      "name": "python"
    }
  },
  "cells": [
    {
      "cell_type": "markdown",
      "metadata": {
        "id": "view-in-github",
        "colab_type": "text"
      },
      "source": [
        "<a href=\"https://colab.research.google.com/github/skillnerve/Daily-coding/blob/main/Print_Matrix_in_snake_Pattern.ipynb\" target=\"_parent\"><img src=\"https://colab.research.google.com/assets/colab-badge.svg\" alt=\"Open In Colab\"/></a>"
      ]
    },
    {
      "cell_type": "code",
      "metadata": {
        "id": "urNVgZaM5V7W"
      },
      "source": [
        "class Solution:\n",
        "    \n",
        "    #Function to return list of integers visited in snake pattern in matrix.\n",
        "    def snakePattern(self, matrix): \n",
        "       # code here \n",
        "        ans=[]\n",
        "        for i in range(len(matrix)):\n",
        "            if i%2==0:\n",
        "                [ans.append(j) for j in matrix[i]]\n",
        "            else:\n",
        "                [ans.append(j) for j in matrix[i][::-1]]\n",
        "        return(ans)"
      ],
      "execution_count": null,
      "outputs": []
    },
    {
      "cell_type": "code",
      "metadata": {
        "id": "3fNMywx0GSKy"
      },
      "source": [
        ""
      ],
      "execution_count": null,
      "outputs": []
    }
  ]
}