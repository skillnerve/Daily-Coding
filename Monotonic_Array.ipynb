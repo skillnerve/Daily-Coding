{
  "nbformat": 4,
  "nbformat_minor": 0,
  "metadata": {
    "colab": {
      "name": "Monotonic Array.ipynb",
      "provenance": [],
      "authorship_tag": "ABX9TyO12xcdxs0p2Di9mcz4/MEf",
      "include_colab_link": true
    },
    "kernelspec": {
      "name": "python3",
      "display_name": "Python 3"
    },
    "language_info": {
      "name": "python"
    }
  },
  "cells": [
    {
      "cell_type": "markdown",
      "metadata": {
        "id": "view-in-github",
        "colab_type": "text"
      },
      "source": [
        "<a href=\"https://colab.research.google.com/github/skillnerve/Daily-coding/blob/main/Monotonic_Array.ipynb\" target=\"_parent\"><img src=\"https://colab.research.google.com/assets/colab-badge.svg\" alt=\"Open In Colab\"/></a>"
      ]
    },
    {
      "cell_type": "code",
      "metadata": {
        "id": "1ckSsK6h8Zeb"
      },
      "source": [
        "class Solution:\n",
        "    def isMonotonic(self, A: List[int]) -> bool:\n",
        "        t=0\n",
        "        while t<len(A)-1 and A[t]==A[t+1] :\n",
        "            t+=1\n",
        "        if t<len(A)-1:\n",
        "            if A[t]<A[t+1]:\n",
        "                m=1\n",
        "            else:\n",
        "                m=2\n",
        "        else:\n",
        "            return(True)\n",
        "        for i in range(t+1,len(A)-1):\n",
        "            if m==1:\n",
        "                if A[i]>A[i+1]:\n",
        "                    return(False)\n",
        "            if m==2:\n",
        "                if A[i]<A[i+1]:\n",
        "                    return(False)\n",
        "        return(True)\n"
      ],
      "execution_count": null,
      "outputs": []
    }
  ]
}