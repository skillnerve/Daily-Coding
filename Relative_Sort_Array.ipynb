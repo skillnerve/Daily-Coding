{
  "nbformat": 4,
  "nbformat_minor": 0,
  "metadata": {
    "colab": {
      "name": "Relative Sort Array.ipynb",
      "provenance": [],
      "authorship_tag": "ABX9TyOISlAPyqx3bNs66jSBv1tZ",
      "include_colab_link": true
    },
    "kernelspec": {
      "name": "python3",
      "display_name": "Python 3"
    },
    "language_info": {
      "name": "python"
    }
  },
  "cells": [
    {
      "cell_type": "markdown",
      "metadata": {
        "id": "view-in-github",
        "colab_type": "text"
      },
      "source": [
        "<a href=\"https://colab.research.google.com/github/skillnerve/Daily-coding/blob/main/Relative_Sort_Array.ipynb\" target=\"_parent\"><img src=\"https://colab.research.google.com/assets/colab-badge.svg\" alt=\"Open In Colab\"/></a>"
      ]
    },
    {
      "cell_type": "code",
      "metadata": {
        "id": "rVAK9TYHUWAZ"
      },
      "source": [
        "class Solution:\n",
        "    def relativeSortArray(self, arr1: List[int], arr2: List[int]) -> List[int]:\n",
        "        ans1=[]\n",
        "        for i in arr2:\n",
        "            while i in arr1:\n",
        "                try:\n",
        "                    arr1.remove(i)\n",
        "                    ans1.append(i)\n",
        "                except:\n",
        "                    ans1.append(i)\n",
        "                    break\n",
        "        for j in sorted(arr1):\n",
        "            ans1.append(j)\n",
        "        return(ans1)"
      ],
      "execution_count": null,
      "outputs": []
    }
  ]
}