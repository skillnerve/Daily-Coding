{
  "nbformat": 4,
  "nbformat_minor": 0,
  "metadata": {
    "colab": {
      "name": "Number of 1 Bits.ipynb",
      "provenance": [],
      "authorship_tag": "ABX9TyN+XUWs2Mq/OH5QaVAj5sR3",
      "include_colab_link": true
    },
    "kernelspec": {
      "name": "python3",
      "display_name": "Python 3"
    },
    "language_info": {
      "name": "python"
    }
  },
  "cells": [
    {
      "cell_type": "markdown",
      "metadata": {
        "id": "view-in-github",
        "colab_type": "text"
      },
      "source": [
        "<a href=\"https://colab.research.google.com/github/skillnerve/Daily-coding/blob/main/Number_of_1_Bits.ipynb\" target=\"_parent\"><img src=\"https://colab.research.google.com/assets/colab-badge.svg\" alt=\"Open In Colab\"/></a>"
      ]
    },
    {
      "cell_type": "code",
      "metadata": {
        "id": "urNVgZaM5V7W"
      },
      "source": [
        "class Solution:\n",
        "    def hammingWeight(self, n: int) -> int:\n",
        "        t=1\n",
        "        if n==0:\n",
        "            return(0)\n",
        "        while n & n-1!=0:\n",
        "            n=n & n-1\n",
        "            t+=1\n",
        "        return(t)"
      ],
      "execution_count": null,
      "outputs": []
    }
  ]
}