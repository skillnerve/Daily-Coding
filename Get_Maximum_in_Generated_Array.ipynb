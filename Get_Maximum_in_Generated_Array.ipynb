{
  "nbformat": 4,
  "nbformat_minor": 0,
  "metadata": {
    "colab": {
      "name": "Get Maximum in Generated Array.ipynb",
      "provenance": [],
      "authorship_tag": "ABX9TyO3Kf2RRzGjAFCf9y1gUKQO",
      "include_colab_link": true
    },
    "kernelspec": {
      "name": "python3",
      "display_name": "Python 3"
    },
    "language_info": {
      "name": "python"
    }
  },
  "cells": [
    {
      "cell_type": "markdown",
      "metadata": {
        "id": "view-in-github",
        "colab_type": "text"
      },
      "source": [
        "<a href=\"https://colab.research.google.com/github/skillnerve/Daily-coding/blob/main/Get_Maximum_in_Generated_Array.ipynb\" target=\"_parent\"><img src=\"https://colab.research.google.com/assets/colab-badge.svg\" alt=\"Open In Colab\"/></a>"
      ]
    },
    {
      "cell_type": "code",
      "metadata": {
        "id": "Pj2w4YLPUOyO"
      },
      "source": [
        "class Solution:\n",
        "    def getMaximumGenerated(self, n: int) -> int:\n",
        "        i=0\n",
        "        arr=[]\n",
        "        while i<n+1:\n",
        "            if i==0:\n",
        "                arr.append(0)\n",
        "            elif i==1:\n",
        "                arr.append(1)\n",
        "            else:\n",
        "                if i%2==0:\n",
        "                    arr.append(arr[int(i/2)])\n",
        "                else:\n",
        "                    arr.append(arr[int(i/2)]+arr[int(i/2)+1])\n",
        "            i+=1\n",
        "        return(max(arr))"
      ],
      "execution_count": 6,
      "outputs": []
    }
  ]
}