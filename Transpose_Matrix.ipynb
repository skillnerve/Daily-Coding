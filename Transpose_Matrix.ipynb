{
  "nbformat": 4,
  "nbformat_minor": 0,
  "metadata": {
    "colab": {
      "name": "Transpose Matrix.ipynb",
      "provenance": [],
      "authorship_tag": "ABX9TyOd5CBLJKJMtoEkaZf65FYB",
      "include_colab_link": true
    },
    "kernelspec": {
      "name": "python3",
      "display_name": "Python 3"
    },
    "language_info": {
      "name": "python"
    }
  },
  "cells": [
    {
      "cell_type": "markdown",
      "metadata": {
        "id": "view-in-github",
        "colab_type": "text"
      },
      "source": [
        "<a href=\"https://colab.research.google.com/github/skillnerve/Daily-coding/blob/main/Transpose_Matrix.ipynb\" target=\"_parent\"><img src=\"https://colab.research.google.com/assets/colab-badge.svg\" alt=\"Open In Colab\"/></a>"
      ]
    },
    {
      "cell_type": "code",
      "metadata": {
        "id": "8UtlUHl0Ep9T"
      },
      "source": [
        "class Solution:\n",
        "    def transpose(self, matrix: List[List[int]]) -> List[List[int]]:\n",
        "        w=[]\n",
        "        for i in range(len(matrix[0])):\n",
        "            q=[]\n",
        "            for j in range(len(matrix)):\n",
        "                q.append(0)\n",
        "            w.append(q)\n",
        "        for i in range(len(matrix)):\n",
        "            for j in range(len(matrix[0])):\n",
        "                w[j][i]=matrix[i][j]\n",
        "        return(w)"
      ],
      "execution_count": null,
      "outputs": []
    }
  ]
}