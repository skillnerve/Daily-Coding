{
  "nbformat": 4,
  "nbformat_minor": 0,
  "metadata": {
    "colab": {
      "name": "Positions of Large Groups.ipynb",
      "provenance": [],
      "collapsed_sections": [],
      "authorship_tag": "ABX9TyMcJQLj1Y69vUjQmziZUZty",
      "include_colab_link": true
    },
    "kernelspec": {
      "name": "python3",
      "display_name": "Python 3"
    },
    "language_info": {
      "name": "python"
    }
  },
  "cells": [
    {
      "cell_type": "markdown",
      "metadata": {
        "id": "view-in-github",
        "colab_type": "text"
      },
      "source": [
        "<a href=\"https://colab.research.google.com/github/skillnerve/Daily-coding/blob/main/Positions_of_Large_Groups.ipynb\" target=\"_parent\"><img src=\"https://colab.research.google.com/assets/colab-badge.svg\" alt=\"Open In Colab\"/></a>"
      ]
    },
    {
      "cell_type": "code",
      "metadata": {
        "id": "pU5ZPrn-LiER"
      },
      "source": [
        "class Solution:\n",
        "    def largeGroupPositions(self, s: str) -> List[List[int]]:\n",
        "        t=0\n",
        "        ans=[]\n",
        "        len_string=len(s)\n",
        "        while t<len_string:\n",
        "            n=0\n",
        "            ini=t\n",
        "            while t+1<len_string and s[t]==s[t+1]:\n",
        "                n+=1\n",
        "                t+=1\n",
        "            if n>=2:\n",
        "                ans.append([ini,t])  \n",
        "            if ini==t:\n",
        "                t+=1\n",
        "        return(ans)"
      ],
      "execution_count": null,
      "outputs": []
    }
  ]
}