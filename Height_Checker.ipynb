{
  "nbformat": 4,
  "nbformat_minor": 0,
  "metadata": {
    "colab": {
      "name": "Height Checker.ipynb",
      "provenance": [],
      "authorship_tag": "ABX9TyOKNcG9XCVN7VoD2H0nwbeL",
      "include_colab_link": true
    },
    "kernelspec": {
      "name": "python3",
      "display_name": "Python 3"
    },
    "language_info": {
      "name": "python"
    }
  },
  "cells": [
    {
      "cell_type": "markdown",
      "metadata": {
        "id": "view-in-github",
        "colab_type": "text"
      },
      "source": [
        "<a href=\"https://colab.research.google.com/github/skillnerve/Daily-coding/blob/main/Height_Checker.ipynb\" target=\"_parent\"><img src=\"https://colab.research.google.com/assets/colab-badge.svg\" alt=\"Open In Colab\"/></a>"
      ]
    },
    {
      "cell_type": "code",
      "metadata": {
        "id": "rVAK9TYHUWAZ"
      },
      "source": [
        "class Solution:\n",
        "    def heightChecker(self, heights: List[int]) -> int:\n",
        "        sorted_height=sorted(heights)\n",
        "        t=0\n",
        "        for i in range(len(heights)):\n",
        "            if heights[i]!=sorted_height[i]:\n",
        "                t+=1\n",
        "        return(t)\n",
        "        "
      ],
      "execution_count": null,
      "outputs": []
    }
  ]
}