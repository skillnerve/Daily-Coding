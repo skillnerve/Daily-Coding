{
  "nbformat": 4,
  "nbformat_minor": 0,
  "metadata": {
    "colab": {
      "name": "Sum of Digits in Base K.ipynb",
      "provenance": [],
      "authorship_tag": "ABX9TyPz7mvXggH0ogAHjgRj8gbQ",
      "include_colab_link": true
    },
    "kernelspec": {
      "name": "python3",
      "display_name": "Python 3"
    },
    "language_info": {
      "name": "python"
    }
  },
  "cells": [
    {
      "cell_type": "markdown",
      "metadata": {
        "id": "view-in-github",
        "colab_type": "text"
      },
      "source": [
        "<a href=\"https://colab.research.google.com/github/skillnerve/Daily-coding/blob/main/Sum_of_Digits_in_Base_K.ipynb\" target=\"_parent\"><img src=\"https://colab.research.google.com/assets/colab-badge.svg\" alt=\"Open In Colab\"/></a>"
      ]
    },
    {
      "cell_type": "code",
      "metadata": {
        "id": "2qogGh4y42Nq"
      },
      "source": [
        "class Solution:\n",
        "    def sumBase(self, n: int, k: int) -> int:\n",
        "        sums=0\n",
        "        while n!=0:\n",
        "            sums+=n%k\n",
        "            n=(n-(n%k))/k\n",
        "        return(int(sums))"
      ],
      "execution_count": null,
      "outputs": []
    }
  ]
}