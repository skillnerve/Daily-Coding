{
  "nbformat": 4,
  "nbformat_minor": 0,
  "metadata": {
    "colab": {
      "name": "palindrome.ipynb",
      "provenance": [],
      "authorship_tag": "ABX9TyOSl3JeA5ttop4ANcKWIjT1",
      "include_colab_link": true
    },
    "kernelspec": {
      "name": "python3",
      "display_name": "Python 3"
    },
    "language_info": {
      "name": "python"
    }
  },
  "cells": [
    {
      "cell_type": "markdown",
      "metadata": {
        "id": "view-in-github",
        "colab_type": "text"
      },
      "source": [
        "<a href=\"https://colab.research.google.com/github/skillnerve/Daily-coding/blob/main/palindrome.ipynb\" target=\"_parent\"><img src=\"https://colab.research.google.com/assets/colab-badge.svg\" alt=\"Open In Colab\"/></a>"
      ]
    },
    {
      "cell_type": "code",
      "metadata": {
        "id": "zdwd-s0bz_c5"
      },
      "source": [
        "q=int(input())\n",
        "rev=0\n",
        "while q>0:\n",
        "    r=q%10\n",
        "    rev=rev*10+r\n",
        "    q=int(q/10)\n",
        "print(rev)"
      ],
      "execution_count": null,
      "outputs": []
    }
  ]
}