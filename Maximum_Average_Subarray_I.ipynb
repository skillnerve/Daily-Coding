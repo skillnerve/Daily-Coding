{
  "nbformat": 4,
  "nbformat_minor": 0,
  "metadata": {
    "colab": {
      "name": "Maximum Average Subarray I.ipynb",
      "provenance": [],
      "authorship_tag": "ABX9TyO9/sEPr+TUsYHOmld4ltsO",
      "include_colab_link": true
    },
    "kernelspec": {
      "name": "python3",
      "display_name": "Python 3"
    },
    "language_info": {
      "name": "python"
    }
  },
  "cells": [
    {
      "cell_type": "markdown",
      "metadata": {
        "id": "view-in-github",
        "colab_type": "text"
      },
      "source": [
        "<a href=\"https://colab.research.google.com/github/skillnerve/Daily-coding/blob/main/Maximum_Average_Subarray_I.ipynb\" target=\"_parent\"><img src=\"https://colab.research.google.com/assets/colab-badge.svg\" alt=\"Open In Colab\"/></a>"
      ]
    },
    {
      "cell_type": "code",
      "metadata": {
        "id": "pU5ZPrn-LiER"
      },
      "source": [
        "class Solution:\n",
        "    def findMaxAverage(self, nums: List[int], k: int) -> float:\n",
        "        total=0\n",
        "        t=0\n",
        "        for i in range(len(nums)):\n",
        "            total+=nums[i]\n",
        "            if i>=k-1:\n",
        "                if t==0:\n",
        "                    sums=total\n",
        "                else:\n",
        "                    total=total-nums[i-k]\n",
        "                    if total>sums:\n",
        "                        sums=total\n",
        "                t+=1\n",
        "        return(sums/k)"
      ],
      "execution_count": null,
      "outputs": []
    }
  ]
}