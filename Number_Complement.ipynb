{
  "nbformat": 4,
  "nbformat_minor": 0,
  "metadata": {
    "colab": {
      "name": "Number Complement.ipynb",
      "provenance": [],
      "authorship_tag": "ABX9TyNSyRRuhspW3v6Lr6BwT9Ho",
      "include_colab_link": true
    },
    "kernelspec": {
      "name": "python3",
      "display_name": "Python 3"
    },
    "language_info": {
      "name": "python"
    }
  },
  "cells": [
    {
      "cell_type": "markdown",
      "metadata": {
        "id": "view-in-github",
        "colab_type": "text"
      },
      "source": [
        "<a href=\"https://colab.research.google.com/github/skillnerve/Daily-coding/blob/main/Number_Complement.ipynb\" target=\"_parent\"><img src=\"https://colab.research.google.com/assets/colab-badge.svg\" alt=\"Open In Colab\"/></a>"
      ]
    },
    {
      "cell_type": "code",
      "metadata": {
        "id": "2qogGh4y42Nq"
      },
      "source": [
        "class Solution:\n",
        "    def findComplement(self, num: int) -> int:\n",
        "        i=0\n",
        "        ans=0\n",
        "        while num!=0:\n",
        "            if num%2==0:\n",
        "                ans+=2**i\n",
        "            num=int(num/2)\n",
        "            i+=1\n",
        "        return(ans)"
      ],
      "execution_count": null,
      "outputs": []
    }
  ]
}