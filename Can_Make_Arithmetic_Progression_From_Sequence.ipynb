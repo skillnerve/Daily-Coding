{
  "nbformat": 4,
  "nbformat_minor": 0,
  "metadata": {
    "colab": {
      "name": "Can Make Arithmetic Progression From Sequence.ipynb",
      "provenance": [],
      "authorship_tag": "ABX9TyOpnADioimNpvE50E0PKqxP",
      "include_colab_link": true
    },
    "kernelspec": {
      "name": "python3",
      "display_name": "Python 3"
    },
    "language_info": {
      "name": "python"
    }
  },
  "cells": [
    {
      "cell_type": "markdown",
      "metadata": {
        "id": "view-in-github",
        "colab_type": "text"
      },
      "source": [
        "<a href=\"https://colab.research.google.com/github/skillnerve/Daily-coding/blob/main/Can_Make_Arithmetic_Progression_From_Sequence.ipynb\" target=\"_parent\"><img src=\"https://colab.research.google.com/assets/colab-badge.svg\" alt=\"Open In Colab\"/></a>"
      ]
    },
    {
      "cell_type": "code",
      "metadata": {
        "id": "gfd6PjOKsUaw"
      },
      "source": [
        "class Solution:\n",
        "    def canMakeArithmeticProgression(self, arr: List[int]) -> bool:\n",
        "        arr=sorted(arr)\n",
        "        diff=arr[1]-arr[0]\n",
        "        for i in range(2,len(arr)):\n",
        "            if arr[i]-arr[i-1]!=diff:\n",
        "                return(False)\n",
        "        return(True)"
      ],
      "execution_count": null,
      "outputs": []
    }
  ]
}