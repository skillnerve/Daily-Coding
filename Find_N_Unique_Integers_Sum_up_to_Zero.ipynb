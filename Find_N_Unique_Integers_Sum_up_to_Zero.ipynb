{
  "nbformat": 4,
  "nbformat_minor": 0,
  "metadata": {
    "colab": {
      "name": "Find N Unique Integers Sum up to Zero.ipynb",
      "provenance": [],
      "authorship_tag": "ABX9TyPSnPGJLcaU5X4QCobz6YRw",
      "include_colab_link": true
    },
    "kernelspec": {
      "name": "python3",
      "display_name": "Python 3"
    },
    "language_info": {
      "name": "python"
    }
  },
  "cells": [
    {
      "cell_type": "markdown",
      "metadata": {
        "id": "view-in-github",
        "colab_type": "text"
      },
      "source": [
        "<a href=\"https://colab.research.google.com/github/skillnerve/Daily-coding/blob/main/Find_N_Unique_Integers_Sum_up_to_Zero.ipynb\" target=\"_parent\"><img src=\"https://colab.research.google.com/assets/colab-badge.svg\" alt=\"Open In Colab\"/></a>"
      ]
    },
    {
      "cell_type": "code",
      "metadata": {
        "id": "rVAK9TYHUWAZ"
      },
      "source": [
        "class Solution:\n",
        "    def sumZero(self, n: int) -> List[int]:\n",
        "        A=[0]\n",
        "        for i in range(int((n-1)/2+0.5)):\n",
        "            A.append(i+1)\n",
        "            A.append(-1*(i+1))\n",
        "        if n%2==0:\n",
        "            A.pop(0)\n",
        "            return(A)\n",
        "        return(A)"
      ],
      "execution_count": null,
      "outputs": []
    }
  ]
}