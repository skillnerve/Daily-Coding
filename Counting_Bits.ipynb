{
  "nbformat": 4,
  "nbformat_minor": 0,
  "metadata": {
    "colab": {
      "name": "Counting Bits.ipynb",
      "provenance": [],
      "authorship_tag": "ABX9TyMvTNp9IlBhhrurUCY6L/EE"
    },
    "kernelspec": {
      "name": "python3",
      "display_name": "Python 3"
    },
    "language_info": {
      "name": "python"
    }
  },
  "cells": [
    {
      "cell_type": "code",
      "metadata": {
        "id": "MEB9kQX15lie"
      },
      "source": [
        "class Solution:\n",
        "    def countBits(self, n: int) -> List[int]:\n",
        "        i=0\n",
        "        j=1\n",
        "        k=2\n",
        "        ans=[]\n",
        "        while i<n+1:\n",
        "            if i==0:\n",
        "                ans.append(0)\n",
        "            elif i==1:\n",
        "                ans.append(1)\n",
        "            elif i<k:\n",
        "                ans.append(ans[i-j]+1)\n",
        "            elif i==k:\n",
        "                k=k*2\n",
        "                j=j*2\n",
        "                ans.append(1)\n",
        "            i+=1\n",
        "        return(ans)"
      ],
      "execution_count": null,
      "outputs": []
    }
  ]
}