{
  "nbformat": 4,
  "nbformat_minor": 0,
  "metadata": {
    "colab": {
      "name": "Counting Bits.ipynb",
      "provenance": [],
      "authorship_tag": "ABX9TyOKXGh4TD4NrER7fZj47Zj1",
      "include_colab_link": true
    },
    "kernelspec": {
      "name": "python3",
      "display_name": "Python 3"
    },
    "language_info": {
      "name": "python"
    }
  },
  "cells": [
    {
      "cell_type": "markdown",
      "metadata": {
        "id": "view-in-github",
        "colab_type": "text"
      },
      "source": [
        "<a href=\"https://colab.research.google.com/github/skillnerve/Daily-coding/blob/main/Counting_Bits.ipynb\" target=\"_parent\"><img src=\"https://colab.research.google.com/assets/colab-badge.svg\" alt=\"Open In Colab\"/></a>"
      ]
    },
    {
      "cell_type": "code",
      "metadata": {
        "id": "2qogGh4y42Nq"
      },
      "source": [
        "class Solution:\n",
        "    def countBits(self, num: int) -> List[int]:\n",
        "        ans=[0]\n",
        "        for i in range(1,num+1):\n",
        "            t=1\n",
        "            while i&(i-1)!=0:\n",
        "                i=i&(i-1)\n",
        "                t+=1\n",
        "            ans.append(t)\n",
        "        return(ans)"
      ],
      "execution_count": null,
      "outputs": []
    }
  ]
}