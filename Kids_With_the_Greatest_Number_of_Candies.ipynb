{
  "nbformat": 4,
  "nbformat_minor": 0,
  "metadata": {
    "colab": {
      "name": "Kids With the Greatest Number of Candies.ipynb",
      "provenance": [],
      "authorship_tag": "ABX9TyPDb+J3uKdfZwA4t6CH/EVp",
      "include_colab_link": true
    },
    "kernelspec": {
      "name": "python3",
      "display_name": "Python 3"
    },
    "language_info": {
      "name": "python"
    }
  },
  "cells": [
    {
      "cell_type": "markdown",
      "metadata": {
        "id": "view-in-github",
        "colab_type": "text"
      },
      "source": [
        "<a href=\"https://colab.research.google.com/github/skillnerve/Daily-coding/blob/main/Kids_With_the_Greatest_Number_of_Candies.ipynb\" target=\"_parent\"><img src=\"https://colab.research.google.com/assets/colab-badge.svg\" alt=\"Open In Colab\"/></a>"
      ]
    },
    {
      "cell_type": "code",
      "metadata": {
        "id": "x5bQPG_xry2E"
      },
      "source": [
        "class Solution:\n",
        "    def kidsWithCandies(self, candies: List[int], extraCandies: int) -> List[bool]:\n",
        "        A=[]\n",
        "        for i in candies:\n",
        "            if i+int(extraCandies)>=max(candies):\n",
        "                A.append(True)\n",
        "            else:\n",
        "                A.append(False)\n",
        "        return(A)"
      ],
      "execution_count": null,
      "outputs": []
    }
  ]
}