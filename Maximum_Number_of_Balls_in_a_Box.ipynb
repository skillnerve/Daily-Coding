{
  "nbformat": 4,
  "nbformat_minor": 0,
  "metadata": {
    "colab": {
      "name": "Maximum Number of Balls in a Box.ipynb",
      "provenance": [],
      "authorship_tag": "ABX9TyP0cKgjQ7x8JzMcFq+0egWe",
      "include_colab_link": true
    },
    "kernelspec": {
      "name": "python3",
      "display_name": "Python 3"
    },
    "language_info": {
      "name": "python"
    }
  },
  "cells": [
    {
      "cell_type": "markdown",
      "metadata": {
        "id": "view-in-github",
        "colab_type": "text"
      },
      "source": [
        "<a href=\"https://colab.research.google.com/github/skillnerve/Daily-coding/blob/main/Maximum_Number_of_Balls_in_a_Box.ipynb\" target=\"_parent\"><img src=\"https://colab.research.google.com/assets/colab-badge.svg\" alt=\"Open In Colab\"/></a>"
      ]
    },
    {
      "cell_type": "code",
      "metadata": {
        "id": "rVAK9TYHUWAZ"
      },
      "source": [
        "class Solution:\n",
        "    def countBalls(self, lowLimit: int, highLimit: int) -> int:\n",
        "        A=[]\n",
        "        for i in range(46):\n",
        "            A.append(0)\n",
        "        for i in range(lowLimit,highLimit+1):\n",
        "            j=i\n",
        "            sums=0\n",
        "            while j>0:\n",
        "                sums+=j%10\n",
        "                j=int(j/10)\n",
        "            A[sums]+=1\n",
        "        return(max(A))"
      ],
      "execution_count": null,
      "outputs": []
    }
  ]
}