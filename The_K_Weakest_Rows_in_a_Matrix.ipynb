{
  "nbformat": 4,
  "nbformat_minor": 0,
  "metadata": {
    "colab": {
      "name": "The K Weakest Rows in a Matrix.ipynb",
      "provenance": [],
      "authorship_tag": "ABX9TyMwme2D63aeQXyoNb3zikWZ",
      "include_colab_link": true
    },
    "kernelspec": {
      "name": "python3",
      "display_name": "Python 3"
    },
    "language_info": {
      "name": "python"
    }
  },
  "cells": [
    {
      "cell_type": "markdown",
      "metadata": {
        "id": "view-in-github",
        "colab_type": "text"
      },
      "source": [
        "<a href=\"https://colab.research.google.com/github/skillnerve/Daily-coding/blob/main/The_K_Weakest_Rows_in_a_Matrix.ipynb\" target=\"_parent\"><img src=\"https://colab.research.google.com/assets/colab-badge.svg\" alt=\"Open In Colab\"/></a>"
      ]
    },
    {
      "cell_type": "code",
      "metadata": {
        "id": "rVAK9TYHUWAZ"
      },
      "source": [
        "class Solution:\n",
        "    def kWeakestRows(self, mat: List[List[int]], k: int) -> List[int]:\n",
        "        sums=[]\n",
        "        for i in mat:\n",
        "            sums.append(sum(i))\n",
        "        sorted_sums=sorted(sums)\n",
        "        indexs=[]\n",
        "        for i in sorted_sums:\n",
        "            ans=sums.index(i)\n",
        "            while ans in indexs:\n",
        "                ans=sums[ans+1:].index(i)+ans+1\n",
        "            indexs.append(ans)\n",
        "        return(indexs[:k])"
      ],
      "execution_count": null,
      "outputs": []
    }
  ]
}