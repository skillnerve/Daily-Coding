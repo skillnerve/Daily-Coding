{
  "nbformat": 4,
  "nbformat_minor": 0,
  "metadata": {
    "colab": {
      "name": "Check if Array Is Sorted and Rotated.ipynb",
      "provenance": [],
      "authorship_tag": "ABX9TyOVZUmrzvwwsqRjKnn8Tfl5",
      "include_colab_link": true
    },
    "kernelspec": {
      "name": "python3",
      "display_name": "Python 3"
    },
    "language_info": {
      "name": "python"
    }
  },
  "cells": [
    {
      "cell_type": "markdown",
      "metadata": {
        "id": "view-in-github",
        "colab_type": "text"
      },
      "source": [
        "<a href=\"https://colab.research.google.com/github/skillnerve/Daily-coding/blob/main/Check_if_Array_Is_Sorted_and_Rotated.ipynb\" target=\"_parent\"><img src=\"https://colab.research.google.com/assets/colab-badge.svg\" alt=\"Open In Colab\"/></a>"
      ]
    },
    {
      "cell_type": "code",
      "metadata": {
        "id": "1ckSsK6h8Zeb"
      },
      "source": [
        "class Solution:\n",
        "    def check(self, nums: List[int]) -> bool:\n",
        "        x=0\n",
        "        while x<len(nums):\n",
        "            t=0\n",
        "            for i in range(len(nums)-1):\n",
        "                if nums[(i+x)%len(nums)]>nums[(i+1+x)%len(nums)]:\n",
        "                    t=1\n",
        "                    break\n",
        "            if t==0:\n",
        "                return(True)\n",
        "            x+=1\n",
        "        return(False)"
      ],
      "execution_count": null,
      "outputs": []
    }
  ]
}