{
  "nbformat": 4,
  "nbformat_minor": 0,
  "metadata": {
    "colab": {
      "name": "Fibonacci Number.ipynb",
      "provenance": [],
      "authorship_tag": "ABX9TyMmbecU6uqtBi+1ii0yMxG1",
      "include_colab_link": true
    },
    "kernelspec": {
      "name": "python3",
      "display_name": "Python 3"
    },
    "language_info": {
      "name": "python"
    }
  },
  "cells": [
    {
      "cell_type": "markdown",
      "metadata": {
        "id": "view-in-github",
        "colab_type": "text"
      },
      "source": [
        "<a href=\"https://colab.research.google.com/github/skillnerve/Daily-coding/blob/main/Fibonacci_Number.ipynb\" target=\"_parent\"><img src=\"https://colab.research.google.com/assets/colab-badge.svg\" alt=\"Open In Colab\"/></a>"
      ]
    },
    {
      "cell_type": "code",
      "metadata": {
        "id": "rVAK9TYHUWAZ"
      },
      "source": [
        "class Solution:\n",
        "    def fib(self, n: int) -> int:\n",
        "        if n==0:\n",
        "            return(0)\n",
        "        if n==1:\n",
        "            return(1)\n",
        "        t1=0\n",
        "        t2=1\n",
        "        while n>1:\n",
        "            x=t2\n",
        "            t2=t1+t2\n",
        "            t1=x\n",
        "            n-=1\n",
        "            \n",
        "        return(t2)"
      ],
      "execution_count": null,
      "outputs": []
    }
  ]
}