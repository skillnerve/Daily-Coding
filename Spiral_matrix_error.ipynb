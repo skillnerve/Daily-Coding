{
  "nbformat": 4,
  "nbformat_minor": 0,
  "metadata": {
    "colab": {
      "name": "Spiral_matrix_error.ipynb",
      "provenance": [],
      "authorship_tag": "ABX9TyOs5c1yxuYAfs6uFt8dDSKz",
      "include_colab_link": true
    },
    "kernelspec": {
      "name": "python3",
      "display_name": "Python 3"
    },
    "language_info": {
      "name": "python"
    }
  },
  "cells": [
    {
      "cell_type": "markdown",
      "metadata": {
        "id": "view-in-github",
        "colab_type": "text"
      },
      "source": [
        "<a href=\"https://colab.research.google.com/github/skillnerve/Daily-coding/blob/main/Spiral_matrix_error.ipynb\" target=\"_parent\"><img src=\"https://colab.research.google.com/assets/colab-badge.svg\" alt=\"Open In Colab\"/></a>"
      ]
    },
    {
      "cell_type": "code",
      "metadata": {
        "colab": {
          "base_uri": "https://localhost:8080/"
        },
        "id": "urNVgZaM5V7W",
        "outputId": "a5bf3ad5-e7c2-4112-ce62-ec2f100126b8"
      },
      "source": [
        "array=[[1,2,3,4],[1,2,3,4]]\n",
        "t=len(array)-2\n",
        "d=1\n",
        "l=len(array[0])-2\n",
        "r=0\n",
        "w=0\n",
        "while r<=l+1 or d<=t+1:\n",
        "  if w%4==0:\n",
        "    right=r\n",
        "    while right<len(array[0])-r:\n",
        "      print(array[int(w/4)][right])\n",
        "      right+=1\n",
        "    r+=1\n",
        "  elif w%4==1:\n",
        "    down=d\n",
        "    while down<len(array)-d+1:\n",
        "      print(array[down][len(array[0])-1-int((w-1)/4)])\n",
        "      down+=1\n",
        "    d+=1\n",
        "  elif w%4==2:\n",
        "    left=l\n",
        "    while left>=int(w/4):\n",
        "      print(array[len(array)-1-int(w/4)][left])\n",
        "      left-=1\n",
        "    l-=1\n",
        "  elif w%4==3:\n",
        "    top=t\n",
        "    while top>int(w/4):\n",
        "      print(array[top][int(w/4)])\n",
        "      top-=1\n",
        "    t-=1\n",
        "  w+=1"
      ],
      "execution_count": 31,
      "outputs": [
        {
          "output_type": "stream",
          "text": [
            "1\n",
            "2\n",
            "3\n",
            "4\n",
            "4\n",
            "3\n",
            "2\n",
            "1\n",
            "2\n",
            "3\n",
            "2\n"
          ],
          "name": "stdout"
        }
      ]
    },
    {
      "cell_type": "code",
      "metadata": {
        "id": "3fNMywx0GSKy"
      },
      "source": [
        ""
      ],
      "execution_count": null,
      "outputs": []
    }
  ]
}