{
  "nbformat": 4,
  "nbformat_minor": 0,
  "metadata": {
    "colab": {
      "name": "Minimum Absolute Difference.ipynb",
      "provenance": [],
      "authorship_tag": "ABX9TyMmJ/aZPZn3jYWqv6+l9x3l",
      "include_colab_link": true
    },
    "kernelspec": {
      "name": "python3",
      "display_name": "Python 3"
    },
    "language_info": {
      "name": "python"
    }
  },
  "cells": [
    {
      "cell_type": "markdown",
      "metadata": {
        "id": "view-in-github",
        "colab_type": "text"
      },
      "source": [
        "<a href=\"https://colab.research.google.com/github/skillnerve/Daily-coding/blob/main/Minimum_Absolute_Difference.ipynb\" target=\"_parent\"><img src=\"https://colab.research.google.com/assets/colab-badge.svg\" alt=\"Open In Colab\"/></a>"
      ]
    },
    {
      "cell_type": "code",
      "metadata": {
        "id": "1o285mWMoz3R"
      },
      "source": [
        "class Solution:\n",
        "    def minimumAbsDifference(self, arr: List[int]) -> List[List[int]]:\n",
        "        arr=sorted(arr)\n",
        "        min_diff=arr[1]-arr[0]\n",
        "        ans=[]\n",
        "        for i in range(1,len(arr)):\n",
        "            if arr[i]-arr[i-1]<min_diff:\n",
        "                min_diff=arr[i]-arr[i-1]\n",
        "                ans=[]\n",
        "            if arr[i]-arr[i-1]==min_diff:\n",
        "                ans.append([arr[i-1],arr[i]])\n",
        "        return(ans)"
      ],
      "execution_count": null,
      "outputs": []
    }
  ]
}