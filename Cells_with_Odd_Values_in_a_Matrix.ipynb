{
  "nbformat": 4,
  "nbformat_minor": 0,
  "metadata": {
    "colab": {
      "name": "Cells with Odd Values in a Matrix.ipynb",
      "provenance": [],
      "authorship_tag": "ABX9TyPs4HfjmElpNOVKbxQqe805",
      "include_colab_link": true
    },
    "kernelspec": {
      "name": "python3",
      "display_name": "Python 3"
    },
    "language_info": {
      "name": "python"
    }
  },
  "cells": [
    {
      "cell_type": "markdown",
      "metadata": {
        "id": "view-in-github",
        "colab_type": "text"
      },
      "source": [
        "<a href=\"https://colab.research.google.com/github/skillnerve/Daily-coding/blob/main/Cells_with_Odd_Values_in_a_Matrix.ipynb\" target=\"_parent\"><img src=\"https://colab.research.google.com/assets/colab-badge.svg\" alt=\"Open In Colab\"/></a>"
      ]
    },
    {
      "cell_type": "code",
      "metadata": {
        "id": "x5bQPG_xry2E"
      },
      "source": [
        "class Solution:\n",
        "    def oddCells(self, n: int, m: int, indices: List[List[int]]) -> int:\n",
        "        ma=[]\n",
        "        l=0\n",
        "        for i in range(n):\n",
        "            sub=[]\n",
        "            for j in range(m):\n",
        "                sub.append(0)\n",
        "            ma.append(sub)\n",
        "        for i in indices:\n",
        "            for j in range(m):\n",
        "                ma[i[0]][j]+=1\n",
        "            for k in range(n):\n",
        "                ma[k][i[1]]+=1\n",
        "        for i in ma:\n",
        "            for j in i:\n",
        "                if j%2==1:\n",
        "                    l+=1\n",
        "        return(l)"
      ],
      "execution_count": null,
      "outputs": []
    }
  ]
}