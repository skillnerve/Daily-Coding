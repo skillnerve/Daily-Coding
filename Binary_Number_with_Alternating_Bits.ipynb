{
  "nbformat": 4,
  "nbformat_minor": 0,
  "metadata": {
    "colab": {
      "name": "Binary Number with Alternating Bits.ipynb",
      "provenance": [],
      "authorship_tag": "ABX9TyMz9N1JHKjzCozFH+Qab+QY",
      "include_colab_link": true
    },
    "kernelspec": {
      "name": "python3",
      "display_name": "Python 3"
    },
    "language_info": {
      "name": "python"
    }
  },
  "cells": [
    {
      "cell_type": "markdown",
      "metadata": {
        "id": "view-in-github",
        "colab_type": "text"
      },
      "source": [
        "<a href=\"https://colab.research.google.com/github/skillnerve/Daily-coding/blob/main/Binary_Number_with_Alternating_Bits.ipynb\" target=\"_parent\"><img src=\"https://colab.research.google.com/assets/colab-badge.svg\" alt=\"Open In Colab\"/></a>"
      ]
    },
    {
      "cell_type": "code",
      "metadata": {
        "id": "2qogGh4y42Nq"
      },
      "source": [
        "class Solution:\n",
        "    def hasAlternatingBits(self, n: int) -> bool:\n",
        "        check_1=0\n",
        "        check_0=1\n",
        "        while n!=0:\n",
        "            if n%2!=0:\n",
        "                if check_1==1:\n",
        "                    return(False)\n",
        "                check_1=1\n",
        "                check_0=1\n",
        "            else:\n",
        "                if check_0==0:\n",
        "                    return(False)\n",
        "                check_0=0\n",
        "                check_1=0\n",
        "            n=int(n/2)\n",
        "        return(True)"
      ],
      "execution_count": null,
      "outputs": []
    }
  ]
}