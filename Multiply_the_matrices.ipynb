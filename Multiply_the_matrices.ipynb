{
  "nbformat": 4,
  "nbformat_minor": 0,
  "metadata": {
    "colab": {
      "name": "Multiply the matrices.ipynb",
      "provenance": [],
      "authorship_tag": "ABX9TyM8kAtSgVutZXKaK1DQJkfZ",
      "include_colab_link": true
    },
    "kernelspec": {
      "name": "python3",
      "display_name": "Python 3"
    },
    "language_info": {
      "name": "python"
    }
  },
  "cells": [
    {
      "cell_type": "markdown",
      "metadata": {
        "id": "view-in-github",
        "colab_type": "text"
      },
      "source": [
        "<a href=\"https://colab.research.google.com/github/skillnerve/Daily-coding/blob/main/Multiply_the_matrices.ipynb\" target=\"_parent\"><img src=\"https://colab.research.google.com/assets/colab-badge.svg\" alt=\"Open In Colab\"/></a>"
      ]
    },
    {
      "cell_type": "code",
      "metadata": {
        "id": "urNVgZaM5V7W"
      },
      "source": [
        "class Solution:\n",
        "    \n",
        "    #Function to multiply two matrices.\n",
        "    def multiplyMatrix(self,A,B):\n",
        "        # code here \n",
        "        f_ans=[]\n",
        "        for row in range(len(A)):\n",
        "            ans_row=[]\n",
        "            for B_column in range(len(B[0])):\n",
        "                ans=0\n",
        "                for column in range(len(A[0])):\n",
        "                    ans+=A[row][column]*B[column][B_column]\n",
        "                ans_row.append(ans)\n",
        "            f_ans.append(ans_row)\n",
        "        return(f_ans)"
      ],
      "execution_count": null,
      "outputs": []
    },
    {
      "cell_type": "code",
      "metadata": {
        "id": "3fNMywx0GSKy"
      },
      "source": [
        ""
      ],
      "execution_count": null,
      "outputs": []
    }
  ]
}