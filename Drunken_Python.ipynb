{
  "nbformat": 4,
  "nbformat_minor": 0,
  "metadata": {
    "colab": {
      "name": "Drunken Python.ipynb",
      "provenance": [],
      "authorship_tag": "ABX9TyOQqsaP4HswJFc+/vdRz5g8",
      "include_colab_link": true
    },
    "kernelspec": {
      "name": "python3",
      "display_name": "Python 3"
    },
    "language_info": {
      "name": "python"
    }
  },
  "cells": [
    {
      "cell_type": "markdown",
      "metadata": {
        "id": "view-in-github",
        "colab_type": "text"
      },
      "source": [
        "<a href=\"https://colab.research.google.com/github/skillnerve/Daily-coding/blob/main/Drunken_Python.ipynb\" target=\"_parent\"><img src=\"https://colab.research.google.com/assets/colab-badge.svg\" alt=\"Open In Colab\"/></a>"
      ]
    },
    {
      "cell_type": "code",
      "execution_count": 22,
      "metadata": {
        "colab": {
          "base_uri": "https://localhost:8080/"
        },
        "id": "guFjJk7vTVZj",
        "outputId": "471c5b92-15ce-4ff8-a2b4-28cbe969823a"
      },
      "outputs": [
        {
          "output_type": "execute_result",
          "data": {
            "text/plain": [
              "[1, 2, 3, 4, 5, 6, 7, 8, 9, 89]"
            ]
          },
          "metadata": {},
          "execution_count": 22
        }
      ],
      "source": [
        "def int_to_str(num):\n",
        "\treturn(int(num))\n",
        "\n",
        "def str_to_int(num):\n",
        "\treturn(str(num))"
      ]
    }
  ]
}