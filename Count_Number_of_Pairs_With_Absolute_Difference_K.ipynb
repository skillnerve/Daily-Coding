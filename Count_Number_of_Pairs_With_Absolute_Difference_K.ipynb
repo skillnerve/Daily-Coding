{
  "nbformat": 4,
  "nbformat_minor": 0,
  "metadata": {
    "colab": {
      "name": "Count Number of Pairs With Absolute Difference K.ipynb",
      "provenance": [],
      "authorship_tag": "ABX9TyN3JFAu7KFlZ7QScpYWwD84",
      "include_colab_link": true
    },
    "kernelspec": {
      "name": "python3",
      "display_name": "Python 3"
    },
    "language_info": {
      "name": "python"
    }
  },
  "cells": [
    {
      "cell_type": "markdown",
      "metadata": {
        "id": "view-in-github",
        "colab_type": "text"
      },
      "source": [
        "<a href=\"https://colab.research.google.com/github/skillnerve/Daily-coding/blob/main/Count_Number_of_Pairs_With_Absolute_Difference_K.ipynb\" target=\"_parent\"><img src=\"https://colab.research.google.com/assets/colab-badge.svg\" alt=\"Open In Colab\"/></a>"
      ]
    },
    {
      "cell_type": "code",
      "metadata": {
        "id": "xV4TWxcRYqpX"
      },
      "source": [
        "class Solution:\n",
        "    def countKDifference(self, nums: List[int], k: int) -> int:\n",
        "        freq        =dict()\n",
        "        for i in nums:\n",
        "            try:\n",
        "                freq[i]+=1\n",
        "            except:\n",
        "                freq[i]=1\n",
        "        l=list(freq.keys())\n",
        "        l_sorted=sorted(l)\n",
        "        ans=0\n",
        "        for i in l_sorted[:-1]:\n",
        "            try:\n",
        "                ans+=freq[i]*freq[i+k]\n",
        "            except:\n",
        "                ans+=0\n",
        "        return(ans)"
      ],
      "execution_count": null,
      "outputs": []
    }
  ]
}