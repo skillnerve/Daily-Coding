{
  "nbformat": 4,
  "nbformat_minor": 0,
  "metadata": {
    "colab": {
      "name": "Sort Array By Parity II.ipynb",
      "provenance": [],
      "authorship_tag": "ABX9TyM054O/yCfLdeBxGNprRpo3",
      "include_colab_link": true
    },
    "kernelspec": {
      "name": "python3",
      "display_name": "Python 3"
    },
    "language_info": {
      "name": "python"
    }
  },
  "cells": [
    {
      "cell_type": "markdown",
      "metadata": {
        "id": "view-in-github",
        "colab_type": "text"
      },
      "source": [
        "<a href=\"https://colab.research.google.com/github/skillnerve/Daily-coding/blob/main/Sort_Array_By_Parity_II.ipynb\" target=\"_parent\"><img src=\"https://colab.research.google.com/assets/colab-badge.svg\" alt=\"Open In Colab\"/></a>"
      ]
    },
    {
      "cell_type": "code",
      "metadata": {
        "id": "rVAK9TYHUWAZ"
      },
      "source": [
        "class Solution:\n",
        "    def sortArrayByParityII(self, nums: List[int]) -> List[int]:\n",
        "        e=[]\n",
        "        o=[]\n",
        "        for i in nums:\n",
        "            if i%2==0:\n",
        "                e.append(i)\n",
        "            else:\n",
        "                o.append(i)\n",
        "        for i in range(0,len(nums),2):\n",
        "            nums[i]=e[int(i/2)]\n",
        "            if int(int(i/2))<len(o):\n",
        "                nums[i+1]=o[int(i/2)]\n",
        "        return(nums)"
      ],
      "execution_count": null,
      "outputs": []
    }
  ]
}