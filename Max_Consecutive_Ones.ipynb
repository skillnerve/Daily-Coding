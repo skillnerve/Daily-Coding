{
  "nbformat": 4,
  "nbformat_minor": 0,
  "metadata": {
    "colab": {
      "name": "Max Consecutive Ones.ipynb",
      "provenance": [],
      "authorship_tag": "ABX9TyPgWJ0zPup/eIksmbdA7hzJ",
      "include_colab_link": true
    },
    "kernelspec": {
      "name": "python3",
      "display_name": "Python 3"
    },
    "language_info": {
      "name": "python"
    }
  },
  "cells": [
    {
      "cell_type": "markdown",
      "metadata": {
        "id": "view-in-github",
        "colab_type": "text"
      },
      "source": [
        "<a href=\"https://colab.research.google.com/github/skillnerve/Daily-coding/blob/main/Max_Consecutive_Ones.ipynb\" target=\"_parent\"><img src=\"https://colab.research.google.com/assets/colab-badge.svg\" alt=\"Open In Colab\"/></a>"
      ]
    },
    {
      "cell_type": "code",
      "metadata": {
        "id": "Pj2w4YLPUOyO"
      },
      "source": [
        "class Solution:\n",
        "    def findMaxConsecutiveOnes(self, nums: List[int]) -> int:\n",
        "        len_nums=len(nums)\n",
        "        i=0\n",
        "        t=0\n",
        "        maxi=0\n",
        "        while i<len_nums:\n",
        "            if nums[i]==1:\n",
        "                t+=1\n",
        "                if t>maxi:\n",
        "                    maxi=t\n",
        "            else:\n",
        "                t=0\n",
        "            i+=1\n",
        "        return(maxi)"
      ],
      "execution_count": 6,
      "outputs": []
    }
  ]
}