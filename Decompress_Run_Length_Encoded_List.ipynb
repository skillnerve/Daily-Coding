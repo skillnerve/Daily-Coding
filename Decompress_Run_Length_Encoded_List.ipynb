{
  "nbformat": 4,
  "nbformat_minor": 0,
  "metadata": {
    "colab": {
      "name": "Decompress Run-Length Encoded List.ipynb",
      "provenance": [],
      "authorship_tag": "ABX9TyNDdIk7qCpRR57yofwmJPlh",
      "include_colab_link": true
    },
    "kernelspec": {
      "name": "python3",
      "display_name": "Python 3"
    },
    "language_info": {
      "name": "python"
    }
  },
  "cells": [
    {
      "cell_type": "markdown",
      "metadata": {
        "id": "view-in-github",
        "colab_type": "text"
      },
      "source": [
        "<a href=\"https://colab.research.google.com/github/skillnerve/Daily-coding/blob/main/Decompress_Run_Length_Encoded_List.ipynb\" target=\"_parent\"><img src=\"https://colab.research.google.com/assets/colab-badge.svg\" alt=\"Open In Colab\"/></a>"
      ]
    },
    {
      "cell_type": "code",
      "metadata": {
        "id": "x5bQPG_xry2E"
      },
      "source": [
        "class Solution:\n",
        "    def decompressRLElist(self, nums: List[int]) -> List[int]:\n",
        "        A=[]\n",
        "        for i in range(1,len(nums),2):\n",
        "            for j in range(nums[i-1]):\n",
        "                A.append(nums[i])\n",
        "        return(A)"
      ],
      "execution_count": null,
      "outputs": []
    }
  ]
}