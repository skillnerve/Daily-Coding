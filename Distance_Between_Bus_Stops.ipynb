{
  "nbformat": 4,
  "nbformat_minor": 0,
  "metadata": {
    "colab": {
      "name": "Distance Between Bus Stops.ipynb",
      "provenance": [],
      "authorship_tag": "ABX9TyNwt9oj/RcisKXwqG4D1uA0",
      "include_colab_link": true
    },
    "kernelspec": {
      "name": "python3",
      "display_name": "Python 3"
    },
    "language_info": {
      "name": "python"
    }
  },
  "cells": [
    {
      "cell_type": "markdown",
      "metadata": {
        "id": "view-in-github",
        "colab_type": "text"
      },
      "source": [
        "<a href=\"https://colab.research.google.com/github/skillnerve/Daily-coding/blob/main/Distance_Between_Bus_Stops.ipynb\" target=\"_parent\"><img src=\"https://colab.research.google.com/assets/colab-badge.svg\" alt=\"Open In Colab\"/></a>"
      ]
    },
    {
      "cell_type": "code",
      "metadata": {
        "id": "Pj2w4YLPUOyO"
      },
      "source": [
        "class Solution:\n",
        "    def distanceBetweenBusStops(self, distance: List[int], start: int, destination: int) -> int:\n",
        "        ans=0\n",
        "        if start>destination:\n",
        "            start,destination=destination,start\n",
        "        for i in range(start,destination):\n",
        "            ans+=distance[i]\n",
        "        return(min(ans,sum(distance)-ans))"
      ],
      "execution_count": 6,
      "outputs": []
    }
  ]
}