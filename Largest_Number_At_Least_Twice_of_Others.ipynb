{
  "nbformat": 4,
  "nbformat_minor": 0,
  "metadata": {
    "colab": {
      "name": "Largest Number At Least Twice of Others.ipynb",
      "provenance": [],
      "authorship_tag": "ABX9TyNWEgPzHVDu1WFCLjlKqJXd",
      "include_colab_link": true
    },
    "kernelspec": {
      "name": "python3",
      "display_name": "Python 3"
    },
    "language_info": {
      "name": "python"
    }
  },
  "cells": [
    {
      "cell_type": "markdown",
      "metadata": {
        "id": "view-in-github",
        "colab_type": "text"
      },
      "source": [
        "<a href=\"https://colab.research.google.com/github/skillnerve/Daily-coding/blob/main/Largest_Number_At_Least_Twice_of_Others.ipynb\" target=\"_parent\"><img src=\"https://colab.research.google.com/assets/colab-badge.svg\" alt=\"Open In Colab\"/></a>"
      ]
    },
    {
      "cell_type": "code",
      "metadata": {
        "id": "pU5ZPrn-LiER"
      },
      "source": [
        "class Solution:\n",
        "    def dominantIndex(self, nums: List[int]) -> int:\n",
        "        for i in range(len(nums)):\n",
        "            if i==0:\n",
        "                maxi=nums[i]\n",
        "                index=0\n",
        "            else:\n",
        "                if maxi<2*nums[i]:\n",
        "                    index=-1 \n",
        "                if maxi<=nums[i]:\n",
        "                    if 2*maxi<=nums[i]:\n",
        "                        index=i\n",
        "                    maxi=nums[i]\n",
        "        return(index)"
      ],
      "execution_count": null,
      "outputs": []
    }
  ]
}