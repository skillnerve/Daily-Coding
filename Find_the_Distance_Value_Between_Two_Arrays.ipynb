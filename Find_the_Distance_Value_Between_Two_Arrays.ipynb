{
  "nbformat": 4,
  "nbformat_minor": 0,
  "metadata": {
    "colab": {
      "name": "Find the Distance Value Between Two Arrays.ipynb",
      "provenance": [],
      "authorship_tag": "ABX9TyP7reVDdhA4kWViOayuchNS",
      "include_colab_link": true
    },
    "kernelspec": {
      "name": "python3",
      "display_name": "Python 3"
    },
    "language_info": {
      "name": "python"
    }
  },
  "cells": [
    {
      "cell_type": "markdown",
      "metadata": {
        "id": "view-in-github",
        "colab_type": "text"
      },
      "source": [
        "<a href=\"https://colab.research.google.com/github/skillnerve/Daily-coding/blob/main/Find_the_Distance_Value_Between_Two_Arrays.ipynb\" target=\"_parent\"><img src=\"https://colab.research.google.com/assets/colab-badge.svg\" alt=\"Open In Colab\"/></a>"
      ]
    },
    {
      "cell_type": "code",
      "metadata": {
        "id": "1o285mWMoz3R"
      },
      "source": [
        "class Solution:\n",
        "    def findTheDistanceValue(self, arr1: List[int], arr2: List[int], d: int) -> int:\n",
        "        t=0\n",
        "        for i in arr1:\n",
        "            for j in arr2:\n",
        "                if abs(i-j)<=d:\n",
        "                    t-=1\n",
        "                    break\n",
        "            t+=1\n",
        "        return(t)"
      ],
      "execution_count": null,
      "outputs": []
    }
  ]
}