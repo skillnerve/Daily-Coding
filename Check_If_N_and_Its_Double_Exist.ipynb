{
  "nbformat": 4,
  "nbformat_minor": 0,
  "metadata": {
    "colab": {
      "name": "Check If N and Its Double Exist.ipynb",
      "provenance": [],
      "authorship_tag": "ABX9TyMRaVlpTGR9FgdnUAgXorum",
      "include_colab_link": true
    },
    "kernelspec": {
      "name": "python3",
      "display_name": "Python 3"
    },
    "language_info": {
      "name": "python"
    }
  },
  "cells": [
    {
      "cell_type": "markdown",
      "metadata": {
        "id": "view-in-github",
        "colab_type": "text"
      },
      "source": [
        "<a href=\"https://colab.research.google.com/github/skillnerve/Daily-coding/blob/main/Check_If_N_and_Its_Double_Exist.ipynb\" target=\"_parent\"><img src=\"https://colab.research.google.com/assets/colab-badge.svg\" alt=\"Open In Colab\"/></a>"
      ]
    },
    {
      "cell_type": "code",
      "metadata": {
        "id": "fvGIJuk3xd-t"
      },
      "source": [
        "class Solution:\n",
        "    def checkIfExist(self, arr: List[int]) -> bool:\n",
        "        for i in arr:\n",
        "            if i*2 in arr:\n",
        "                if i!=0:\n",
        "                    return(True)\n",
        "                else:\n",
        "                    if 0 in arr[arr.index(0)+1:]:\n",
        "                        return(True)\n",
        "        return(False)\n",
        "        "
      ],
      "execution_count": null,
      "outputs": []
    }
  ]
}