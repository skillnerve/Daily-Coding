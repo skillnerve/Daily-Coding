{
  "nbformat": 4,
  "nbformat_minor": 0,
  "metadata": {
    "colab": {
      "name": "Sum of upper and lower triangles.ipynb",
      "provenance": [],
      "authorship_tag": "ABX9TyPh98q1AlkR7+6z9QpnxxCq",
      "include_colab_link": true
    },
    "kernelspec": {
      "name": "python3",
      "display_name": "Python 3"
    },
    "language_info": {
      "name": "python"
    }
  },
  "cells": [
    {
      "cell_type": "markdown",
      "metadata": {
        "id": "view-in-github",
        "colab_type": "text"
      },
      "source": [
        "<a href=\"https://colab.research.google.com/github/skillnerve/Daily-coding/blob/main/Sum_of_upper_and_lower_triangles.ipynb\" target=\"_parent\"><img src=\"https://colab.research.google.com/assets/colab-badge.svg\" alt=\"Open In Colab\"/></a>"
      ]
    },
    {
      "cell_type": "code",
      "metadata": {
        "id": "urNVgZaM5V7W"
      },
      "source": [
        "class Solution:\n",
        "    \n",
        "    #Function to return sum of upper and lower triangles of a matrix.\n",
        "    def sumTriangles(self,matrix, n):\n",
        "        # code here\n",
        "        c=len(matrix[0])\n",
        "        r=len(matrix)\n",
        "        row=0\n",
        "        u_ans=0\n",
        "        l_ans=0\n",
        "        while row<r:\n",
        "            column=row\n",
        "            while column<c:\n",
        "                u_ans+=matrix[row][column]\n",
        "                l_ans+=matrix[column][row]\n",
        "                column+=1\n",
        "            row+=1\n",
        "        return(u_ans,l_ans)"
      ],
      "execution_count": null,
      "outputs": []
    },
    {
      "cell_type": "code",
      "metadata": {
        "id": "3fNMywx0GSKy"
      },
      "source": [
        ""
      ],
      "execution_count": null,
      "outputs": []
    }
  ]
}