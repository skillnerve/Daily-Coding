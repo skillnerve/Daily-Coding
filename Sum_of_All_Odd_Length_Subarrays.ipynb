{
  "nbformat": 4,
  "nbformat_minor": 0,
  "metadata": {
    "colab": {
      "name": "Sum of All Odd Length Subarrays.ipynb",
      "provenance": [],
      "authorship_tag": "ABX9TyP4wbq7z1ie7Gp0GrODwjsa",
      "include_colab_link": true
    },
    "kernelspec": {
      "name": "python3",
      "display_name": "Python 3"
    },
    "language_info": {
      "name": "python"
    }
  },
  "cells": [
    {
      "cell_type": "markdown",
      "metadata": {
        "id": "view-in-github",
        "colab_type": "text"
      },
      "source": [
        "<a href=\"https://colab.research.google.com/github/skillnerve/Daily-coding/blob/main/Sum_of_All_Odd_Length_Subarrays.ipynb\" target=\"_parent\"><img src=\"https://colab.research.google.com/assets/colab-badge.svg\" alt=\"Open In Colab\"/></a>"
      ]
    },
    {
      "cell_type": "code",
      "metadata": {
        "id": "x5bQPG_xry2E"
      },
      "source": [
        "class Solution:\n",
        "    def sumOddLengthSubarrays(self, arr: List[int]) -> int:\n",
        "        sums=0\n",
        "        for i in range(1,len(arr)+1,2):\n",
        "            for j in range(len(arr)):\n",
        "                if j+i<=len(arr):\n",
        "                    sums+=sum(arr[j:j+i])\n",
        "        return(sums)"
      ],
      "execution_count": null,
      "outputs": []
    }
  ]
}