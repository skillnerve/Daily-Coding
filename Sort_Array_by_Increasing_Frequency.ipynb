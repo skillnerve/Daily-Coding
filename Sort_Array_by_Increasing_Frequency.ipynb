{
  "nbformat": 4,
  "nbformat_minor": 0,
  "metadata": {
    "colab": {
      "name": "Sort Array by Increasing Frequency.ipynb",
      "provenance": [],
      "authorship_tag": "ABX9TyMxCUDU2gpuBJHshWgUCoch",
      "include_colab_link": true
    },
    "kernelspec": {
      "name": "python3",
      "display_name": "Python 3"
    },
    "language_info": {
      "name": "python"
    }
  },
  "cells": [
    {
      "cell_type": "markdown",
      "metadata": {
        "id": "view-in-github",
        "colab_type": "text"
      },
      "source": [
        "<a href=\"https://colab.research.google.com/github/skillnerve/Daily-coding/blob/main/Sort_Array_by_Increasing_Frequency.ipynb\" target=\"_parent\"><img src=\"https://colab.research.google.com/assets/colab-badge.svg\" alt=\"Open In Colab\"/></a>"
      ]
    },
    {
      "cell_type": "code",
      "metadata": {
        "id": "1o285mWMoz3R"
      },
      "source": [
        "class Solution:\n",
        "    def frequencySort(self, nums: List[int]) -> List[int]:\n",
        "        nums=sorted(nums,reverse=True)\n",
        "        t=nums[0]\n",
        "        arr_num=[]\n",
        "        arr_freq=[]\n",
        "        arr_sorted=[]\n",
        "        ans=0\n",
        "        for i in nums:\n",
        "            if i==t:\n",
        "                ans+=1\n",
        "            else:\n",
        "                arr_num.append(t)\n",
        "                arr_freq.append(ans)\n",
        "                t=i\n",
        "                ans=1\n",
        "        arr_num.append(t)\n",
        "        arr_freq.append(ans)\n",
        "        for j in sorted(arr_freq):\n",
        "            e=j\n",
        "            indd=arr_freq.index(j)\n",
        "            while arr_num[indd] in arr_sorted:\n",
        "                indd=arr_freq[indd+1:].index(j)+indd+1\n",
        "            while e>0:\n",
        "                arr_sorted.append(arr_num[indd])\n",
        "                e-=1\n",
        "        return(arr_sorted)"
      ],
      "execution_count": null,
      "outputs": []
    }
  ]
}