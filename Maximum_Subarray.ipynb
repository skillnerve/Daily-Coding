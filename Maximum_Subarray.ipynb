{
  "nbformat": 4,
  "nbformat_minor": 0,
  "metadata": {
    "colab": {
      "name": "Maximum Subarray.ipynb",
      "provenance": [],
      "authorship_tag": "ABX9TyPOkMe5H8bSBBsG+gZUePOV",
      "include_colab_link": true
    },
    "kernelspec": {
      "name": "python3",
      "display_name": "Python 3"
    },
    "language_info": {
      "name": "python"
    }
  },
  "cells": [
    {
      "cell_type": "markdown",
      "metadata": {
        "id": "view-in-github",
        "colab_type": "text"
      },
      "source": [
        "<a href=\"https://colab.research.google.com/github/skillnerve/Daily-coding/blob/main/Maximum_Subarray.ipynb\" target=\"_parent\"><img src=\"https://colab.research.google.com/assets/colab-badge.svg\" alt=\"Open In Colab\"/></a>"
      ]
    },
    {
      "cell_type": "code",
      "metadata": {
        "id": "Pj2w4YLPUOyO"
      },
      "source": [
        "class Solution:\n",
        "    def maxSubArray(self, nums: List[int]) -> int:\n",
        "        ans=0\n",
        "        for i in range(len(nums)):\n",
        "            if i==0:\n",
        "                final=nums[i]\n",
        "            ans+=nums[i]\n",
        "            f=max(ans,nums[i])\n",
        "            ans=f\n",
        "            if ans>final:\n",
        "                final=ans\n",
        "        return(final)"
      ],
      "execution_count": null,
      "outputs": []
    }
  ]
}